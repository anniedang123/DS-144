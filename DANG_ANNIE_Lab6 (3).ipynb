{
  "nbformat": 4,
  "nbformat_minor": 0,
  "metadata": {
    "kernelspec": {
      "display_name": "Python 3",
      "language": "python",
      "name": "python3"
    },
    "language_info": {
      "codemirror_mode": {
        "name": "ipython",
        "version": 3
      },
      "file_extension": ".py",
      "mimetype": "text/x-python",
      "name": "python",
      "nbconvert_exporter": "python",
      "pygments_lexer": "ipython3",
      "version": "3.6.9"
    },
    "colab": {
      "name": "DANG_ANNIE_Lab6",
      "provenance": [],
      "collapsed_sections": []
    }
  },
  "cells": [
    {
      "cell_type": "code",
      "metadata": {
        "id": "IDlU-kLCKDVZ"
      },
      "source": [
        "NAME = \"Annie Dang\""
      ],
      "execution_count": 1,
      "outputs": []
    },
    {
      "cell_type": "markdown",
      "metadata": {
        "id": "kW9zL4V6KDVc"
      },
      "source": [
        "---"
      ]
    },
    {
      "cell_type": "markdown",
      "metadata": {
        "deletable": false,
        "editable": false,
        "nbgrader": {
          "checksum": "9a0ec075584699a44c46933457b0a8ba",
          "grade": false,
          "grade_id": "cell-a910b376742d04c0",
          "locked": true,
          "schema_version": 1,
          "solution": false
        },
        "id": "ECD5r2hFKDVd"
      },
      "source": [
        "# Lab 6: Skip Gram\n",
        "\n",
        "**Please read the following instructions very carefully**\n",
        "\n",
        "## Working on the assignment / FAQs\n",
        "- **Always use the seed/random_state as *42* wherever applicable** (This is to ensure repeatability in answers, across students and coding environments) \n",
        "- The type of question and the points they carry are indicated in each question cell\n",
        "- To avoid any ambiguity, each question also specifies what *value* must be set. Note that these are dummy values and not the answers\n",
        "- If an autograded question has multiple answers (due to differences in handling NaNs, zeros etc.), all answers will be considered.\n",
        "- You can delete the `raise NotImplementedError()`\n",
        "- **Submitting the assignment** : Download the '.ipynb' file from Colab and upload it to bcourses. Do not delete any outputs from cells before submitting.\n",
        "- That's about it. Happy coding!\n",
        "\n",
        "\n",
        "Available software:\n",
        " - Python's Gensim module: https://radimrehurek.com/gensim/ (install using pip)\n",
        " - Sklearn’s  TSNE module in case you use TSNE to reduce dimension (optional)\n",
        " - Python’s Matplotlib (optional)\n",
        "\n",
        "_Note: The most important hyper parameters of skip-gram/CBOW are vector size and windows size_\n"
      ]
    },
    {
      "cell_type": "code",
      "metadata": {
        "deletable": false,
        "editable": false,
        "nbgrader": {
          "checksum": "a09a0bf3042da711c4bf843e9b4a4189",
          "grade": false,
          "grade_id": "cell-bf780e597c0216c8",
          "locked": true,
          "schema_version": 1,
          "solution": false
        },
        "id": "Vsocwry-KDVe",
        "outputId": "9efcbce4-5e30-4efa-ad0e-3643316405f5",
        "colab": {
          "base_uri": "https://localhost:8080/"
        }
      },
      "source": [
        "!pip install gensim\n",
        "!wget -nc https://s3.amazonaws.com/dl4j-distribution/GoogleNews-vectors-negative300.bin.gz \n",
        "\n",
        "\n",
        "import pandas as pd\n",
        "import numpy as np \n",
        "import gensim\n",
        "\n"
      ],
      "execution_count": 2,
      "outputs": [
        {
          "output_type": "stream",
          "text": [
            "Requirement already satisfied: gensim in /usr/local/lib/python3.6/dist-packages (3.6.0)\n",
            "Requirement already satisfied: six>=1.5.0 in /usr/local/lib/python3.6/dist-packages (from gensim) (1.15.0)\n",
            "Requirement already satisfied: numpy>=1.11.3 in /usr/local/lib/python3.6/dist-packages (from gensim) (1.18.5)\n",
            "Requirement already satisfied: scipy>=0.18.1 in /usr/local/lib/python3.6/dist-packages (from gensim) (1.4.1)\n",
            "Requirement already satisfied: smart-open>=1.2.1 in /usr/local/lib/python3.6/dist-packages (from gensim) (3.0.0)\n",
            "Requirement already satisfied: requests in /usr/local/lib/python3.6/dist-packages (from smart-open>=1.2.1->gensim) (2.23.0)\n",
            "Requirement already satisfied: certifi>=2017.4.17 in /usr/local/lib/python3.6/dist-packages (from requests->smart-open>=1.2.1->gensim) (2020.6.20)\n",
            "Requirement already satisfied: urllib3!=1.25.0,!=1.25.1,<1.26,>=1.21.1 in /usr/local/lib/python3.6/dist-packages (from requests->smart-open>=1.2.1->gensim) (1.24.3)\n",
            "Requirement already satisfied: chardet<4,>=3.0.2 in /usr/local/lib/python3.6/dist-packages (from requests->smart-open>=1.2.1->gensim) (3.0.4)\n",
            "Requirement already satisfied: idna<3,>=2.5 in /usr/local/lib/python3.6/dist-packages (from requests->smart-open>=1.2.1->gensim) (2.10)\n",
            "--2020-11-05 02:15:34--  https://s3.amazonaws.com/dl4j-distribution/GoogleNews-vectors-negative300.bin.gz\n",
            "Resolving s3.amazonaws.com (s3.amazonaws.com)... 52.217.88.46\n",
            "Connecting to s3.amazonaws.com (s3.amazonaws.com)|52.217.88.46|:443... connected.\n",
            "HTTP request sent, awaiting response... 200 OK\n",
            "Length: 1647046227 (1.5G) [application/x-gzip]\n",
            "Saving to: ‘GoogleNews-vectors-negative300.bin.gz’\n",
            "\n",
            "GoogleNews-vectors- 100%[===================>]   1.53G  74.2MB/s    in 22s     \n",
            "\n",
            "2020-11-05 02:15:57 (71.2 MB/s) - ‘GoogleNews-vectors-negative300.bin.gz’ saved [1647046227/1647046227]\n",
            "\n"
          ],
          "name": "stdout"
        }
      ]
    },
    {
      "cell_type": "markdown",
      "metadata": {
        "deletable": false,
        "editable": false,
        "nbgrader": {
          "checksum": "47031c66b74746d23ccc5e8369446a4b",
          "grade": false,
          "grade_id": "cell-3f89500615a0096f",
          "locked": true,
          "schema_version": 1,
          "solution": false
        },
        "id": "ZF74G9bDKDVh"
      },
      "source": [
        "### **Q1 (1 point)** \n",
        "Find the cosine similarity between the following word pairs\n",
        "\n",
        "- (France, England)\n",
        "- (smaller, bigger)\n",
        "- (England, London)\n",
        "- (France, Rocket)\n",
        "- (big, bigger)"
      ]
    },
    {
      "cell_type": "code",
      "metadata": {
        "deletable": false,
        "nbgrader": {
          "checksum": "4d52dda406c3d8cd5e37d29755f0fb12",
          "grade": false,
          "grade_id": "cell-fbbe575f8f5a6368",
          "locked": false,
          "schema_version": 1,
          "solution": true
        },
        "id": "SZD5ZaMvKDVk",
        "outputId": "b5e4b7a0-921b-4f3d-9c25-9072f5dd24ed",
        "colab": {
          "base_uri": "https://localhost:8080/"
        }
      },
      "source": [
        "from gensim.models import KeyedVectors\n",
        "\n",
        "model = KeyedVectors.load_word2vec_format('GoogleNews-vectors-negative300.bin.gz', binary=True)\n",
        "word_vectors = model.wv\n",
        "del model\n",
        "#Replace 0 with the code / value; Do not delete this cell\n",
        "similarity_pair1 = word_vectors.similarity('France', 'England')\n",
        "similarity_pair2 = word_vectors.similarity('smaller', 'bigger')\n",
        "similarity_pair3 = word_vectors.similarity('England', 'London')\n",
        "similarity_pair4 = word_vectors.similarity('France', 'Rocket')\n",
        "similarity_pair5 = word_vectors.similarity('big', 'bigger')\n",
        "\n"
      ],
      "execution_count": 3,
      "outputs": [
        {
          "output_type": "stream",
          "text": [
            "/usr/local/lib/python3.6/dist-packages/ipykernel_launcher.py:4: DeprecationWarning: Call to deprecated `wv` (Attribute will be removed in 4.0.0, use self instead).\n",
            "  after removing the cwd from sys.path.\n",
            "/usr/local/lib/python3.6/dist-packages/gensim/matutils.py:737: FutureWarning: Conversion of the second argument of issubdtype from `int` to `np.signedinteger` is deprecated. In future, it will be treated as `np.int64 == np.dtype(int).type`.\n",
            "  if np.issubdtype(vec.dtype, np.int):\n"
          ],
          "name": "stderr"
        }
      ]
    },
    {
      "cell_type": "code",
      "metadata": {
        "deletable": false,
        "editable": false,
        "nbgrader": {
          "checksum": "569aa8b664a41d901bf7b0a5e23e9930",
          "grade": true,
          "grade_id": "cell-929d59ed5d67f618",
          "locked": true,
          "points": 1,
          "schema_version": 1,
          "solution": false
        },
        "id": "tFUPLSK7KDVp",
        "outputId": "b867a7be-ed54-4316-b2d9-df07fb596d54",
        "colab": {
          "base_uri": "https://localhost:8080/"
        }
      },
      "source": [
        "#This is an autograded cell, do not edit/delete\n",
        "print(similarity_pair1, similarity_pair2, similarity_pair3, similarity_pair4, similarity_pair5)"
      ],
      "execution_count": 4,
      "outputs": [
        {
          "output_type": "stream",
          "text": [
            "0.39804944 0.7302272 0.43992856 0.07114174 0.68423855\n"
          ],
          "name": "stdout"
        }
      ]
    },
    {
      "cell_type": "markdown",
      "metadata": {
        "deletable": false,
        "editable": false,
        "nbgrader": {
          "checksum": "a7f270405ddf9ecbffde36e6c096b818",
          "grade": false,
          "grade_id": "cell-ccd6618b4fac3715",
          "locked": true,
          "schema_version": 1,
          "solution": false
        },
        "id": "ZcqpWCjJKDVs"
      },
      "source": [
        "### **Q2 (1 point)** \n",
        "Write an expression to extract the vector representations of the words: \n",
        "\n",
        "- France\n",
        "- England\n",
        "- smaller\n",
        "- bigger\n",
        "- rocket\n",
        "- big\n",
        "\n",
        "Get only the first 5 elements for each vector representation."
      ]
    },
    {
      "cell_type": "code",
      "metadata": {
        "deletable": false,
        "nbgrader": {
          "checksum": "6b3cecb268eb9440c446cd3de984b7f6",
          "grade": false,
          "grade_id": "cell-00f3d05abb28aa23",
          "locked": false,
          "schema_version": 1,
          "solution": true
        },
        "id": "6pzKlLyjKDVt"
      },
      "source": [
        "#Replace 0 with the code / value to get the first 5 elements of each vector; Do not delete this cell\n",
        "vector_1 = word_vectors['France'][:5]\n",
        "vector_2 = word_vectors['England'][:5]\n",
        "vector_3 = word_vectors['smaller'][:5]\n",
        "vector_4 = word_vectors['bigger'][:5]\n",
        "vector_5 = word_vectors['rocket'][:5]\n",
        "vector_6 = word_vectors['big'][:5]\n",
        "\n"
      ],
      "execution_count": 5,
      "outputs": []
    },
    {
      "cell_type": "code",
      "metadata": {
        "deletable": false,
        "editable": false,
        "nbgrader": {
          "checksum": "401940f859774b3c1ec48338fa15682e",
          "grade": true,
          "grade_id": "cell-6f34229370fa873f",
          "locked": true,
          "points": 1,
          "schema_version": 1,
          "solution": false
        },
        "id": "Hkj2ROGTKDVv",
        "outputId": "9ff53dff-42ba-402a-d480-d7e6286b4407",
        "colab": {
          "base_uri": "https://localhost:8080/"
        }
      },
      "source": [
        "#This is an autograded cell, do not edit/delete\n",
        "print(vector_1)\n",
        "print(vector_2)\n",
        "print(vector_3)\n",
        "print(vector_4)\n",
        "print(vector_5)\n",
        "print(vector_6)\n"
      ],
      "execution_count": 6,
      "outputs": [
        {
          "output_type": "stream",
          "text": [
            "[0.04858398 0.07861328 0.32421875 0.03491211 0.07714844]\n",
            "[-0.19824219  0.11523438  0.0625     -0.05834961  0.2265625 ]\n",
            "[-0.05004883  0.03417969 -0.0703125   0.17578125  0.00689697]\n",
            "[-0.06542969 -0.09521484 -0.06225586  0.16210938  0.01989746]\n",
            "[-0.03198242  0.27148438 -0.2890625  -0.15429688  0.16894531]\n",
            "[ 0.11132812  0.10595703 -0.07373047  0.18847656  0.07666016]\n"
          ],
          "name": "stdout"
        }
      ]
    },
    {
      "cell_type": "markdown",
      "metadata": {
        "deletable": false,
        "editable": false,
        "nbgrader": {
          "checksum": "ac8b42811c924e7988f17b9dbd3f71ef",
          "grade": false,
          "grade_id": "cell-4ad44071d3785409",
          "locked": true,
          "schema_version": 1,
          "solution": false
        },
        "id": "2UBnMwiXKDVy"
      },
      "source": [
        "### **Q3 (1 point)** \n",
        "Find the euclidean distances between the word pairs : \n",
        "\n",
        "- (France, England)\n",
        "- (smaller, bigger)\n",
        "- (England, London)\n",
        "- (France, Rocket)\n",
        "- (big, bigger)\n"
      ]
    },
    {
      "cell_type": "code",
      "metadata": {
        "deletable": false,
        "nbgrader": {
          "checksum": "a771483fbb59086604eb84bcc7c7f0ad",
          "grade": false,
          "grade_id": "cell-3aba86afc0ebd8a8",
          "locked": false,
          "schema_version": 1,
          "solution": true
        },
        "id": "zQGd-YVoKDV3"
      },
      "source": [
        "#Replace 0 with the code / value; Do not delete this cell\n",
        "from scipy.spatial import distance\n",
        "\n",
        "eu_dist1 = distance.euclidean(word_vectors['France'], word_vectors['England'])\n",
        "eu_dist2 = distance.euclidean(word_vectors['smaller'], word_vectors['bigger'])\n",
        "eu_dist3 = distance.euclidean(word_vectors['England'], word_vectors['London'])\n",
        "eu_dist4 = distance.euclidean(word_vectors['France'], word_vectors['Rocket'])\n",
        "eu_dist5 = distance.euclidean(word_vectors['big'], word_vectors['bigger'])\n",
        "\n",
        "\n"
      ],
      "execution_count": 7,
      "outputs": []
    },
    {
      "cell_type": "code",
      "metadata": {
        "deletable": false,
        "editable": false,
        "nbgrader": {
          "checksum": "17796eb5de342e8f8e841aa137a2c41c",
          "grade": true,
          "grade_id": "cell-15ffa50b82de21ad",
          "locked": true,
          "points": 1,
          "schema_version": 1,
          "solution": false
        },
        "id": "HsSg0l2UKDV6",
        "outputId": "5df8963b-6f6d-43e0-c9c1-84a84cd79059",
        "colab": {
          "base_uri": "https://localhost:8080/"
        }
      },
      "source": [
        "#This is an autograded cell, do not edit / delete\n",
        "print(eu_dist1)\n",
        "print(eu_dist2)\n",
        "print(eu_dist3)\n",
        "print(eu_dist4)\n",
        "print(eu_dist5)\n"
      ],
      "execution_count": 8,
      "outputs": [
        {
          "output_type": "stream",
          "text": [
            "3.015106678009033\n",
            "1.8618743419647217\n",
            "2.875283718109131\n",
            "3.892071008682251\n",
            "1.9586496353149414\n"
          ],
          "name": "stdout"
        }
      ]
    },
    {
      "cell_type": "markdown",
      "metadata": {
        "deletable": false,
        "editable": false,
        "nbgrader": {
          "checksum": "afc0e843c7545e2df83448feda9f28f5",
          "grade": false,
          "grade_id": "cell-7cd8b9b67386376d",
          "locked": true,
          "schema_version": 1,
          "solution": false
        },
        "id": "XvO2iU7QKDWA"
      },
      "source": [
        "### **Q4 (1 point)**\n",
        "Time to dabble with the power of Word2Vec. Find the 2 closest words  for the following conditions:  \n",
        "- (King - Man + Queen)\n",
        "- (bigger - big + small)\n",
        "- (waiting - wait + run)\n",
        "- (Texas + Milwaukee – Wisconsin)"
      ]
    },
    {
      "cell_type": "code",
      "metadata": {
        "deletable": false,
        "nbgrader": {
          "checksum": "50ef096feb166865434fe2fca3d41f99",
          "grade": false,
          "grade_id": "cell-b72201968c5fd1ec",
          "locked": false,
          "schema_version": 1,
          "solution": true
        },
        "id": "jCxWmA1eKDWB",
        "outputId": "7a7d270e-0d77-4f72-d1dc-e3e67eb7c16d",
        "colab": {
          "base_uri": "https://localhost:8080/"
        }
      },
      "source": [
        "#Replace 0 with the code / value; Do not delete this cell\n",
        "closest1 = word_vectors.most_similar(positive=['King', 'Queen'], negative=['Man'])[:2]\n",
        "closest2 = word_vectors.most_similar(positive=['bigger', 'small'], negative=['big'])[:2]\n",
        "closest3 = word_vectors.most_similar(positive=['waiting', 'run'], negative=['wait'])[:2]\n",
        "closest4 = word_vectors.most_similar(positive=['Texas', 'Milwaukee'], negative=['Wisconsin'])[:2]\n",
        "closest5 = 0\n",
        "\n",
        "\n",
        "\n",
        "\n"
      ],
      "execution_count": 9,
      "outputs": [
        {
          "output_type": "stream",
          "text": [
            "/usr/local/lib/python3.6/dist-packages/gensim/matutils.py:737: FutureWarning: Conversion of the second argument of issubdtype from `int` to `np.signedinteger` is deprecated. In future, it will be treated as `np.int64 == np.dtype(int).type`.\n",
            "  if np.issubdtype(vec.dtype, np.int):\n"
          ],
          "name": "stderr"
        }
      ]
    },
    {
      "cell_type": "code",
      "metadata": {
        "deletable": false,
        "editable": false,
        "nbgrader": {
          "checksum": "f9c5ff502264f29d2632c6387f92686a",
          "grade": true,
          "grade_id": "cell-b69718ab0e1470bc",
          "locked": true,
          "points": 1,
          "schema_version": 1,
          "solution": false
        },
        "id": "io9elfD8KDWE",
        "outputId": "983e665f-83ab-44b8-f071-1b428965a731",
        "colab": {
          "base_uri": "https://localhost:8080/"
        }
      },
      "source": [
        "#This is an autograded cell, do not edit/delete\n",
        "print(closest1)\n",
        "print(closest2)\n",
        "print(closest3)\n",
        "print(closest4)\n",
        "print(closest5)\n"
      ],
      "execution_count": 10,
      "outputs": [
        {
          "output_type": "stream",
          "text": [
            "[('Queen_Elizabeth', 0.5257916450500488), ('monarch', 0.5004087090492249)]\n",
            "[('larger', 0.7402471899986267), ('smaller', 0.732999324798584)]\n",
            "[('running', 0.5654535889625549), ('runs', 0.49640005826950073)]\n",
            "[('Houston', 0.7767744064331055), ('Fort_Worth', 0.7270511388778687)]\n",
            "0\n"
          ],
          "name": "stdout"
        }
      ]
    },
    {
      "cell_type": "markdown",
      "metadata": {
        "deletable": false,
        "editable": false,
        "nbgrader": {
          "checksum": "6432058d78f4fa52224c48a3b3e71d0d",
          "grade": false,
          "grade_id": "cell-73dca0e2072fef91",
          "locked": true,
          "schema_version": 1,
          "solution": false
        },
        "id": "erUu4u71KDWJ"
      },
      "source": [
        "### **Q5 (3 points)**\n",
        "Using the vectors for the words in the Google News dataset, explore the semantic representation of these words through K-means clustering and explain your findings.\n",
        "\n",
        "*Note : Since there are ~3Mil words in the vocabulary, you can downsample it to ~20-30k randomly selected words*\n",
        "\n",
        "**Do not delete the below cell**"
      ]
    },
    {
      "cell_type": "code",
      "metadata": {
        "deletable": false,
        "nbgrader": {
          "checksum": "7ecef46689f11d4d0a6fed72e049235f",
          "grade": true,
          "grade_id": "cell-80b177848b8b0212",
          "locked": false,
          "points": 3,
          "schema_version": 1,
          "solution": true
        },
        "id": "M3jN02fOKDWK",
        "outputId": "684360fb-c371-463b-938a-3093034c6423",
        "colab": {
          "base_uri": "https://localhost:8080/"
        }
      },
      "source": [
        "from nltk.cluster import KMeansClusterer\n",
        "import nltk\n",
        "np.random.seed(seed=42)\n",
        "sampled_words = np.random.choice(list(word_vectors.vocab), size=25000, replace=False)\n",
        "X = word_vectors[sampled_words]\n",
        "\n",
        "NUM_CLUSTERS=5\n",
        "kclusterer = KMeansClusterer(NUM_CLUSTERS, distance=nltk.cluster.util.cosine_distance)\n",
        "assigned_clusters = kclusterer.cluster(X, assign_clusters=True)\n",
        "\n",
        "d = {'word': sampled_words, 'cluster': assigned_clusters}\n",
        "df = pd.DataFrame(data=d)\n",
        "for i in range(5):\n",
        "  print('CLUSTER {}:'.format(i))\n",
        "  print(df[df['cluster'] == i]['word'][:30], \"\\n\")"
      ],
      "execution_count": 11,
      "outputs": [
        {
          "output_type": "stream",
          "text": [
            "CLUSTER 0:\n",
            "4                 Scary_Scary\n",
            "14          absinthe_drinkers\n",
            "21     Modernist_Architecture\n",
            "24                    Vapours\n",
            "26                       Eito\n",
            "44            Dreams_hitmaker\n",
            "54        Beyonce_Wyclef_Jean\n",
            "57            mullet_haircuts\n",
            "60           Herbert_Kretzmer\n",
            "61              Self_Hypnosis\n",
            "63               Gauge_Comics\n",
            "64             Isabel_Gillies\n",
            "69                locust_bean\n",
            "76                   Pierneef\n",
            "84                       KNAC\n",
            "87                   Meg_Giry\n",
            "88                iron_hulled\n",
            "97                 lion_roars\n",
            "100                Dot_Rotten\n",
            "104             coke_snorting\n",
            "105               DD#.#_audio\n",
            "110        Penguin_paperbacks\n",
            "116        broad_brimmed_hats\n",
            "120                  plumeria\n",
            "126               Gino_Robair\n",
            "130          Crighton_Theatre\n",
            "132                   pigment\n",
            "133          hand_tufted_rugs\n",
            "140         hummingbird_drone\n",
            "142         boxers_Micky_Ward\n",
            "Name: word, dtype: object \n",
            "\n",
            "CLUSTER 1:\n",
            "16                          Sewitsky\n",
            "18                          Pottroff\n",
            "23               pornographic_images\n",
            "31                   Vandergrift_Pa.\n",
            "36             Lake_Elsinore_Outlets\n",
            "38                            Cucchi\n",
            "39                            McNatt\n",
            "45                          Polovina\n",
            "48              Attorney_Meg_Gorecki\n",
            "52                   Vanna_Slaughter\n",
            "53          President_Graham_Spanier\n",
            "67                              Hord\n",
            "71                   Alex_Eckelberry\n",
            "77                        Siegfriedt\n",
            "79                          R._Bantz\n",
            "95          Supervisor_Windy_Swetman\n",
            "101                         Konechne\n",
            "102                  Deirdre_McMurdy\n",
            "106                          Desanto\n",
            "113                           CPHIMS\n",
            "114    Crispins_Property_Consultancy\n",
            "131                 Margo_Rohrbacher\n",
            "141                         FSK_Mall\n",
            "149                      Saengerfest\n",
            "155                          Hermene\n",
            "158                      HPH_Hospice\n",
            "163                            Llame\n",
            "172                      J._Nabel_MD\n",
            "175                      Frankforter\n",
            "179                    Denys_Wortman\n",
            "Name: word, dtype: object \n",
            "\n",
            "CLUSTER 2:\n",
            "1                      Homebuyers_Tax\n",
            "17                  hip_flexor_strain\n",
            "29              Lt._Gen._Masood_Aslam\n",
            "30                      LEUNG_Chu_Yan\n",
            "34                       Dylan_Rocher\n",
            "42                             snaked\n",
            "56     Knoxville_Tenn._Candace_Parker\n",
            "59                    Vineet_Indulkar\n",
            "70                        Harrier_jet\n",
            "74                      pound_lingcod\n",
            "85                     Andrei_Karyaka\n",
            "103         Trapshooting_Championship\n",
            "107                  Jordan_Chambless\n",
            "112                     Carrie_Stroup\n",
            "118                       comeptition\n",
            "123                        Cary_Stapp\n",
            "124              transplant_recipient\n",
            "144                O'Reilly_NHRA_Fall\n",
            "150                      Rick_Ragazzo\n",
            "152              Peter_Christofilakos\n",
            "183        defenseman_Oskars_Bartulis\n",
            "190          LANDOVER_Md._Tiki_Barber\n",
            "198          quarterback_Gus_Frerotte\n",
            "214             Chip_Ganassi_squirmed\n",
            "217                         Collarini\n",
            "219                 IPC_Alpine_Skiing\n",
            "224                   Serapong_Course\n",
            "226                coach_Julie_Filpus\n",
            "234         Mark_Niesse_Audrey_McAvoy\n",
            "240                        Folkestone\n",
            "Name: word, dtype: object \n",
            "\n",
            "CLUSTER 3:\n",
            "0                                      Agilent_AFM\n",
            "2                    Next_Generation_Networks_NGNs\n",
            "3                                  Plastic_Bottles\n",
            "5     PRNewswire_FirstCall_ViroPharma_Incorporated\n",
            "6                         masterminding_atrocities\n",
            "7         REQUIREMENTS_FOR_INDIVIDUALS_Individuals\n",
            "9                                Adrienne_Schwisow\n",
            "10                                Slava_Kuperstein\n",
            "11                                      MAIN_FACTS\n",
            "12                   Intelligence_Surveillance_Act\n",
            "13                                Teliris_develops\n",
            "19                                   Smartest_Used\n",
            "20                                    silicon_LCoS\n",
            "22                                   #:##.#_Pacing\n",
            "25                                            éste\n",
            "27                                          FM_RDS\n",
            "33                         Electronic_Data_Capture\n",
            "35                               Al_Baghdadiyah_TV\n",
            "37                                         ISP####\n",
            "40                              Inc._EquityStation\n",
            "41                          ovens_washing_machines\n",
            "43                                  RETURNING_HOME\n",
            "46                                Chief_Adm._Ozden\n",
            "47                                  TIFFANY_LANKES\n",
            "49                                       PHASE_TWO\n",
            "51                                GlassPoint_Solar\n",
            "55                                      NeverTouch\n",
            "58                          Donald_Melanson_posted\n",
            "62                                  ICAP_economist\n",
            "66                                   ED_DEL_GRANDE\n",
            "Name: word, dtype: object \n",
            "\n",
            "CLUSTER 4:\n",
            "8                      Housa_died\n",
            "15          Democrat_Cheri_DiNovo\n",
            "28              Phillipe_Gourgeon\n",
            "32                       nakakita\n",
            "50                           MELS\n",
            "65                 Srikant_Sastri\n",
            "72                          haart\n",
            "75                          S'kan\n",
            "80                  Siew_Kum_Hong\n",
            "90                      El_Hajdib\n",
            "98               Wagalla_airstrip\n",
            "111                       al_Jouf\n",
            "115                Justice_Kiefel\n",
            "122            media_mogul_Sondhi\n",
            "125                      deprives\n",
            "127                 By_Amy_Kazmin\n",
            "128              PV_Narasimha_Rao\n",
            "136                   Hawai'i_Nei\n",
            "147                          Adiv\n",
            "148                   Miss_Goldie\n",
            "151    President_Tommy_Remengesau\n",
            "153                   Anwar_Bunni\n",
            "159        football_Raul_Sanllehi\n",
            "160                   Nalin_Kumar\n",
            "162           Christianne_Glossop\n",
            "174                        Sikisi\n",
            "178                         Chars\n",
            "182                       Ancajas\n",
            "184             Stop_Islamisation\n",
            "192                   Abdul_Haque\n",
            "Name: word, dtype: object \n",
            "\n"
          ],
          "name": "stdout"
        }
      ]
    },
    {
      "cell_type": "markdown",
      "metadata": {
        "id": "mzVyjr1qRln3"
      },
      "source": [
        "It seems like cluster 0 involves businesses, services, or companies, such as Electronic Data Capture, GlassPoint Solar, DTE Energy Co, etc.\n",
        "\n",
        "Cluster 1 seem to be relating to the law or legal matters. For example, Adrienne_Schwisow and Slava_Kuperstein are attorneys, the Intelligence_Surveillance_Act, homebuyers tax, requirements for individuals, etc.\n",
        "\n",
        "Cluster 2 seem to be relating to scholars and professionals. Examples include an attorney, somebody with an MD, a sociologist/university administrator, etc.\n",
        "\n",
        "Cluster 3 seem to be relating to political figures. Examples include democrat cheri dinovo, justice kiefel, President_Tommy_Remengesau, etc.\n",
        "\n",
        "Cluster 4 seem to be relating to performance or the entertainment industry. Examples include, KNAC (a radio show), Danny La Rue (an entertainer), Beyonce_Wyclef_Jean, Crighton_Theatre, etc."
      ]
    },
    {
      "cell_type": "code",
      "metadata": {
        "id": "_HfPxlnXQq9_",
        "outputId": "7a368b7d-f498-4b16-c415-8e7733c2ef58",
        "colab": {
          "base_uri": "https://localhost:8080/",
          "height": 265
        }
      },
      "source": [
        "from sklearn.decomposition import PCA\n",
        "import pylab as pl\n",
        "from sklearn import cluster\n",
        "\n",
        "kmeans = cluster.KMeans(n_clusters=NUM_CLUSTERS)\n",
        "kmeans.fit(X)\n",
        " \n",
        "labels = kmeans.labels_\n",
        "\n",
        "pca = PCA(n_components=2).fit(X)\n",
        "pca2 = pca.transform(X)\n",
        "pl.scatter(pca2[:, 0], pca2[:, 1], c=labels);"
      ],
      "execution_count": 12,
      "outputs": [
        {
          "output_type": "display_data",
          "data": {
            "image/png": "[encoded data removed]",
            "text/plain": [
              "<Figure size 432x288 with 1 Axes>"
            ]
          },
          "metadata": {
            "tags": [],
            "needs_background": "light"
          }
        }
      ]
    },
    {
      "cell_type": "markdown",
      "metadata": {
        "deletable": false,
        "editable": false,
        "nbgrader": {
          "checksum": "0467b27a0f59504cbb62b851a002386f",
          "grade": false,
          "grade_id": "cell-5b2a5e8ff6c74323",
          "locked": true,
          "schema_version": 1,
          "solution": false
        },
        "id": "rmdtLoHkKDWR"
      },
      "source": [
        "### **Q6 (1 point)**\n",
        "What loss function does the skipgram model use and briefly describe what this function is minimizing.\n",
        "\n",
        "**Do not delete the below cell**"
      ]
    },
    {
      "cell_type": "code",
      "metadata": {
        "deletable": false,
        "nbgrader": {
          "checksum": "774aef2c5bf8ef9d92e3489d1cd80390",
          "grade": true,
          "grade_id": "cell-90cc4b2c0ae8e2c2",
          "locked": false,
          "points": 1,
          "schema_version": 1,
          "solution": true
        },
        "id": "SyOASYXOKDWS"
      },
      "source": [
        "# The skipgram model uses the categorical cross entropy loss, which uses a softmax activation function with cross entropy loss.\n",
        "# This function minimizes the negative log likelihood that is summed for all classes. The likelihood inside the negative log is\n",
        "# is described by the softmax function as the likelihood of the data belonging to a certain class\n"
      ],
      "execution_count": 13,
      "outputs": []
    },
    {
      "cell_type": "markdown",
      "metadata": {
        "deletable": false,
        "editable": false,
        "nbgrader": {
          "checksum": "c14f6069f64cc86ab6e384d28df270d8",
          "grade": false,
          "grade_id": "cell-74a177caaabb5009",
          "locked": true,
          "schema_version": 1,
          "solution": false
        },
        "id": "dbpuJx9CKDWV"
      },
      "source": [
        "### **Bonus Question (1 point)** \n",
        "Find at least 2 interesting word vec combinations like the ones given in Q4\n",
        "\n",
        "**Do not delete the below cell**"
      ]
    },
    {
      "cell_type": "code",
      "metadata": {
        "deletable": false,
        "nbgrader": {
          "checksum": "c2d42b5327f4b020c7e1706506dd5ce9",
          "grade": true,
          "grade_id": "cell-7351297993d72e83",
          "locked": false,
          "points": 1,
          "schema_version": 1,
          "solution": true
        },
        "id": "pQM8C_T7KDWW",
        "outputId": "3195cb5b-fdf8-4ab1-9569-a2da3935290e",
        "colab": {
          "base_uri": "https://localhost:8080/"
        }
      },
      "source": [
        "print(word_vectors.most_similar(positive=['Easter', 'Thanksgiving'], negative=['Sunday'])[:2])\n",
        "print(word_vectors.most_similar(positive=['Her', 'My'], negative=['Hers'])[:2])"
      ],
      "execution_count": 14,
      "outputs": [
        {
          "output_type": "stream",
          "text": [
            "/usr/local/lib/python3.6/dist-packages/gensim/matutils.py:737: FutureWarning: Conversion of the second argument of issubdtype from `int` to `np.signedinteger` is deprecated. In future, it will be treated as `np.int64 == np.dtype(int).type`.\n",
            "  if np.issubdtype(vec.dtype, np.int):\n"
          ],
          "name": "stderr"
        },
        {
          "output_type": "stream",
          "text": [
            "[('Christmas', 0.6667991876602173), ('holiday', 0.663316011428833)]\n",
            "[('His', 0.7207620143890381), ('my', 0.6178208589553833)]\n"
          ],
          "name": "stdout"
        }
      ]
    },
    {
      "cell_type": "markdown",
      "metadata": {
        "id": "ing7rMhiziZp"
      },
      "source": [
        "## Generate embeddings from the corpus you have chosen."
      ]
    },
    {
      "cell_type": "code",
      "metadata": {
        "id": "KcpuHR2ZWGmk",
        "outputId": "7501c534-581f-4196-df5b-13f0fe5d076a",
        "colab": {
          "base_uri": "https://localhost:8080/"
        }
      },
      "source": [
        "import os\n",
        "import string\n",
        "import re\n",
        "import pprint\n",
        "from urllib.request import urlopen\n",
        "import nltk\n",
        "from nltk import word_tokenize, tokenize\n",
        "nltk.download('punkt')\n",
        "\n",
        "url = \"http://www.gutenberg.org/cache/epub/24923/pg24923.txt\" ## Your raw text file location \n",
        "resp = urlopen(url)\n",
        "raw = resp.read().decode('utf8')\n",
        "firstlook = tokenize.sent_tokenize(raw)\n",
        "\n",
        "pattern = r'''(?x)  # set flag to allow verbose regexps\n",
        "(?:[A-Z]\\.)+        # abbreviations, e.g. U.S.A.\n",
        "|\\w+(?:[-']\\w+)*    # words with optional internal hyphens\n",
        "|\\$?\\d+(?:\\.\\d+)?   # currency, e.g. $12.80 \n",
        "|\\.\\.\\.             # elipses\n",
        "|[.,;\"'?()-_`]      # these are separate tokens\n",
        "'''\n",
        "tokenized_raw = \" \".join(nltk.regexp_tokenize(raw, pattern))\n",
        "tokenized_raw = tokenize.sent_tokenize(tokenized_raw)\n",
        "\n",
        "nopunct = []\n",
        "for sent in tokenized_raw:\n",
        "    a = [w for w in sent.split() if w not in string.punctuation]\n",
        "    nopunct.append(\" \".join(a))\n",
        "\n",
        "tok_corp = [nltk.word_tokenize(sent) for sent in nopunct]\n",
        "unique_words = list(set([item for sublist in tok_corp for item in sublist]))\n",
        "\n",
        "model = gensim.models.Word2Vec(tok_corp, min_count=1, size = 16, window=7)\n",
        "\n",
        "vector_list=[] \n",
        "for word in unique_words:\n",
        "    vector_list.append(model[word])\n",
        "print(vector_list[:5])\n",
        "len(unique_words)"
      ],
      "execution_count": 15,
      "outputs": [
        {
          "output_type": "stream",
          "text": [
            "[nltk_data] Downloading package punkt to /root/nltk_data...\n",
            "[nltk_data]   Unzipping tokenizers/punkt.zip.\n",
            "[array([ 0.05387922, -0.028422  ,  0.00654412, -0.02645147,  0.02564855,\n",
            "        0.06648801, -0.05011898, -0.03072294, -0.05091984, -0.01422791,\n",
            "        0.02218487,  0.01378361,  0.01216622,  0.03090402,  0.00727693,\n",
            "       -0.04105026], dtype=float32), array([-0.00464922, -0.01288335, -0.01176549,  0.02044939,  0.02806616,\n",
            "        0.01193518,  0.0032129 , -0.02164982, -0.00541879, -0.02642911,\n",
            "        0.0147893 ,  0.04320418, -0.04501456,  0.02445959,  0.01641704,\n",
            "       -0.01763284], dtype=float32), array([ 0.05603297, -0.02429933,  0.01939826, -0.0309079 , -0.00050542,\n",
            "        0.08559923, -0.0179449 , -0.0138441 , -0.02694086,  0.01049261,\n",
            "        0.02960868,  0.04904184, -0.02398619,  0.05152118,  0.01686197,\n",
            "       -0.04436697], dtype=float32), array([ 0.21478927, -0.00615878,  0.03779635, -0.08068289,  0.2585187 ,\n",
            "        0.30832168, -0.176292  , -0.09626214, -0.23651661, -0.10835685,\n",
            "        0.18615657,  0.25044408, -0.09220406,  0.15197773,  0.17853564,\n",
            "       -0.10262098], dtype=float32), array([ 0.10928532, -0.02538783,  0.0135245 , -0.05418974,  0.06197937,\n",
            "        0.07508457, -0.0552846 , -0.04072512, -0.06438689, -0.03807402,\n",
            "        0.07277518,  0.03576923, -0.00755731, -0.01153698,  0.06756783,\n",
            "       -0.05524441], dtype=float32)]\n"
          ],
          "name": "stdout"
        },
        {
          "output_type": "stream",
          "text": [
            "/usr/local/lib/python3.6/dist-packages/ipykernel_launcher.py:37: DeprecationWarning: Call to deprecated `__getitem__` (Method will be removed in 4.0.0, use self.wv.__getitem__() instead).\n"
          ],
          "name": "stderr"
        },
        {
          "output_type": "execute_result",
          "data": {
            "text/plain": [
              "13562"
            ]
          },
          "metadata": {
            "tags": []
          },
          "execution_count": 15
        }
      ]
    },
    {
      "cell_type": "markdown",
      "metadata": {
        "id": "9amipmpq8z0D"
      },
      "source": [
        "## Hypothesis 1:\n",
        "I predict that the word duck and bird will be more similar than the word duck and fish. This is because a duck is a bird and should be associated with each other, while duck has very little association with fish, other than the fact that they're animals."
      ]
    },
    {
      "cell_type": "code",
      "metadata": {
        "id": "0JdHSOVrzLQQ",
        "outputId": "9677a53b-f6e2-44ea-c6b2-a2e9abbeff30",
        "colab": {
          "base_uri": "https://localhost:8080/"
        }
      },
      "source": [
        "print(model.similarity('duck', 'bird'))\n",
        "print(model.similarity('duck', 'fish'))\n"
      ],
      "execution_count": null,
      "outputs": [
        {
          "output_type": "stream",
          "text": [
            "0.9723271\n",
            "0.87855273\n"
          ],
          "name": "stdout"
        },
        {
          "output_type": "stream",
          "text": [
            "/usr/local/lib/python3.6/dist-packages/ipykernel_launcher.py:1: DeprecationWarning: Call to deprecated `similarity` (Method will be removed in 4.0.0, use self.wv.similarity() instead).\n",
            "  \"\"\"Entry point for launching an IPython kernel.\n",
            "/usr/local/lib/python3.6/dist-packages/gensim/matutils.py:737: FutureWarning: Conversion of the second argument of issubdtype from `int` to `np.signedinteger` is deprecated. In future, it will be treated as `np.int64 == np.dtype(int).type`.\n",
            "  if np.issubdtype(vec.dtype, np.int):\n",
            "/usr/local/lib/python3.6/dist-packages/ipykernel_launcher.py:2: DeprecationWarning: Call to deprecated `similarity` (Method will be removed in 4.0.0, use self.wv.similarity() instead).\n",
            "  \n"
          ],
          "name": "stderr"
        }
      ]
    },
    {
      "cell_type": "markdown",
      "metadata": {
        "id": "gn__LCH-9Dav"
      },
      "source": [
        "This somewhat confirms my hypothesis. Duck and Bird are 98% cosine similar, which is more so than duck and fish, but duck and fish also have very high similarity, which may come from the fact that they're both animals and were discussed together in the text."
      ]
    },
    {
      "cell_type": "markdown",
      "metadata": {
        "id": "cfcpcyMR9MF_"
      },
      "source": [
        "## Hypothesis 2\n",
        "I predict that dog and domestic and cat and domestic both have high cosine similarity and are close in cosine similarity to each other. This is because I think both cat and dog are associated with \"domestic\" and should be associated with domestic at the same level."
      ]
    },
    {
      "cell_type": "code",
      "metadata": {
        "id": "kjRQpjuNz_t5",
        "outputId": "b6940bcf-afec-4c5d-8e40-5482d030ad33",
        "colab": {
          "base_uri": "https://localhost:8080/"
        }
      },
      "source": [
        "print(model.similarity('dog', 'domestic'))\n",
        "print(model.similarity('cat', 'domestic'))\n"
      ],
      "execution_count": null,
      "outputs": [
        {
          "output_type": "stream",
          "text": [
            "0.9804577\n",
            "0.9812833\n"
          ],
          "name": "stdout"
        },
        {
          "output_type": "stream",
          "text": [
            "/usr/local/lib/python3.6/dist-packages/ipykernel_launcher.py:1: DeprecationWarning: Call to deprecated `similarity` (Method will be removed in 4.0.0, use self.wv.similarity() instead).\n",
            "  \"\"\"Entry point for launching an IPython kernel.\n",
            "/usr/local/lib/python3.6/dist-packages/gensim/matutils.py:737: FutureWarning: Conversion of the second argument of issubdtype from `int` to `np.signedinteger` is deprecated. In future, it will be treated as `np.int64 == np.dtype(int).type`.\n",
            "  if np.issubdtype(vec.dtype, np.int):\n",
            "/usr/local/lib/python3.6/dist-packages/ipykernel_launcher.py:2: DeprecationWarning: Call to deprecated `similarity` (Method will be removed in 4.0.0, use self.wv.similarity() instead).\n",
            "  \n"
          ],
          "name": "stderr"
        }
      ]
    },
    {
      "cell_type": "markdown",
      "metadata": {
        "id": "yYbXRNUJ9pkg"
      },
      "source": [
        "This confirms my hypothesis because both pairings have very high cosine similarities and the value of similarity is very close to each other."
      ]
    },
    {
      "cell_type": "markdown",
      "metadata": {
        "id": "Cqw4OTqH9CA5"
      },
      "source": [
        "## Hypothesis 3\n",
        "I predict that \"dog\" + \"domestic\" - \"wolf\" will equal wild. Because dog is to domestic as wolf is to wild."
      ]
    },
    {
      "cell_type": "code",
      "metadata": {
        "id": "3g3sdhFn39MU",
        "outputId": "a4506308-2ccc-4d64-80ac-8620fd8c3c03",
        "colab": {
          "base_uri": "https://localhost:8080/"
        }
      },
      "source": [
        "print(model.most_similar(positive=['dog', 'domestic'], negative=['wolf'], topn=5))\n",
        "for i, (word, sim) in enumerate(model.most_similar(positive=['dog', 'domestic'], negative=['wolf'], topn=1000)):\n",
        "    if word == 'wild':\n",
        "        print('[Rank ' + str(i) + ']','::', (word, sim))"
      ],
      "execution_count": null,
      "outputs": [
        {
          "output_type": "stream",
          "text": [
            "[('all', 0.9946643114089966), ('several', 0.9919795989990234), ('one', 0.9909327030181885), ('wild', 0.9874952435493469), ('breeds', 0.9874944686889648)]\n",
            "[Rank 3] :: ('wild', 0.9874952435493469)\n"
          ],
          "name": "stdout"
        },
        {
          "output_type": "stream",
          "text": [
            "/usr/local/lib/python3.6/dist-packages/ipykernel_launcher.py:1: DeprecationWarning: Call to deprecated `most_similar` (Method will be removed in 4.0.0, use self.wv.most_similar() instead).\n",
            "  \"\"\"Entry point for launching an IPython kernel.\n",
            "/usr/local/lib/python3.6/dist-packages/gensim/matutils.py:737: FutureWarning: Conversion of the second argument of issubdtype from `int` to `np.signedinteger` is deprecated. In future, it will be treated as `np.int64 == np.dtype(int).type`.\n",
            "  if np.issubdtype(vec.dtype, np.int):\n",
            "/usr/local/lib/python3.6/dist-packages/ipykernel_launcher.py:2: DeprecationWarning: Call to deprecated `most_similar` (Method will be removed in 4.0.0, use self.wv.most_similar() instead).\n",
            "  \n"
          ],
          "name": "stderr"
        }
      ]
    },
    {
      "cell_type": "markdown",
      "metadata": {
        "id": "p60KDI5LlMJS"
      },
      "source": [
        "My hypothesis was wrong, as the words that are most similar to dog+domestic-wolf were not the words I was expecting. In fact, I did not anticipate any of these top words to be associated with dog+domestic-wolf. But,the word 'wild' which I actually expected is ranked 3rd, which is pretty high up on the list."
      ]
    },
    {
      "cell_type": "markdown",
      "metadata": {
        "id": "mMk2j1PprQ4Z"
      },
      "source": [
        "## Use T-SNE or PCA to reduce the dimensionality of the vectors to two dimensions"
      ]
    },
    {
      "cell_type": "code",
      "metadata": {
        "id": "wjMpZkVslQtn"
      },
      "source": [
        "from sklearn.manifold import TSNE\n",
        "import pandas as pd\n",
        "from gensim.models import KeyedVectors"
      ],
      "execution_count": 16,
      "outputs": []
    },
    {
      "cell_type": "code",
      "metadata": {
        "id": "IohTTwO3v4Gy"
      },
      "source": [
        "from google.colab.output import eval_js\n",
        "from IPython.display import Javascript\n"
      ],
      "execution_count": 17,
      "outputs": []
    },
    {
      "cell_type": "code",
      "metadata": {
        "id": "zU8_dKjWw60F",
        "outputId": "657cd151-b47e-4b60-bf80-d9eedabea17c",
        "colab": {
          "base_uri": "https://localhost:8080/"
        }
      },
      "source": [
        "!git clone https://github.com/CAHLR/d3-scatterplot.git"
      ],
      "execution_count": 18,
      "outputs": [
        {
          "output_type": "stream",
          "text": [
            "Cloning into 'd3-scatterplot'...\n",
            "remote: Enumerating objects: 19, done.\u001b[K\n",
            "remote: Counting objects: 100% (19/19), done.\u001b[K\n",
            "remote: Compressing objects: 100% (19/19), done.\u001b[K\n",
            "remote: Total 1022 (delta 9), reused 1 (delta 0), pack-reused 1003\u001b[K\n",
            "Receiving objects: 100% (1022/1022), 1.94 MiB | 16.44 MiB/s, done.\n",
            "Resolving deltas: 100% (590/590), done.\n"
          ],
          "name": "stdout"
        }
      ]
    },
    {
      "cell_type": "code",
      "metadata": {
        "id": "xpoVspjWlr0o"
      },
      "source": [
        "vocab_gn = list(word_vectors.vocab)\n",
        "freq = [(x, word_vectors.vocab[x].count) for x in vocab_gn]"
      ],
      "execution_count": 19,
      "outputs": []
    },
    {
      "cell_type": "code",
      "metadata": {
        "id": "m4l2N1sXmNmh"
      },
      "source": [
        "sorted_gn = sorted(freq, reverse=True, key=lambda d: d[1]) \n",
        "sampled_words = [f[0] for f in sorted_gn[:20000]]"
      ],
      "execution_count": 20,
      "outputs": []
    },
    {
      "cell_type": "code",
      "metadata": {
        "id": "-7PgIA4loUhz"
      },
      "source": [
        "gn_vectors=[]\n",
        "for x in sampled_words:\n",
        "    gn_vectors.append(word_vectors[x])"
      ],
      "execution_count": 21,
      "outputs": []
    },
    {
      "cell_type": "code",
      "metadata": {
        "id": "drh9rgUzq_bP",
        "outputId": "ab80aaa8-8c83-410a-9c13-87c77f7c1366",
        "colab": {
          "base_uri": "https://localhost:8080/"
        }
      },
      "source": [
        "data_embed=TSNE(n_components=2, perplexity=50, verbose=2, method='barnes_hut').fit_transform(gn_vectors)"
      ],
      "execution_count": 22,
      "outputs": [
        {
          "output_type": "stream",
          "text": [
            "[t-SNE] Computing 151 nearest neighbors...\n",
            "[t-SNE] Indexed 20000 samples in 0.987s...\n",
            "[t-SNE] Computed neighbors for 20000 samples in 349.574s...\n",
            "[t-SNE] Computed conditional probabilities for sample 1000 / 20000\n",
            "[t-SNE] Computed conditional probabilities for sample 2000 / 20000\n",
            "[t-SNE] Computed conditional probabilities for sample 3000 / 20000\n",
            "[t-SNE] Computed conditional probabilities for sample 4000 / 20000\n",
            "[t-SNE] Computed conditional probabilities for sample 5000 / 20000\n",
            "[t-SNE] Computed conditional probabilities for sample 6000 / 20000\n",
            "[t-SNE] Computed conditional probabilities for sample 7000 / 20000\n",
            "[t-SNE] Computed conditional probabilities for sample 8000 / 20000\n",
            "[t-SNE] Computed conditional probabilities for sample 9000 / 20000\n",
            "[t-SNE] Computed conditional probabilities for sample 10000 / 20000\n",
            "[t-SNE] Computed conditional probabilities for sample 11000 / 20000\n",
            "[t-SNE] Computed conditional probabilities for sample 12000 / 20000\n",
            "[t-SNE] Computed conditional probabilities for sample 13000 / 20000\n",
            "[t-SNE] Computed conditional probabilities for sample 14000 / 20000\n",
            "[t-SNE] Computed conditional probabilities for sample 15000 / 20000\n",
            "[t-SNE] Computed conditional probabilities for sample 16000 / 20000\n",
            "[t-SNE] Computed conditional probabilities for sample 17000 / 20000\n",
            "[t-SNE] Computed conditional probabilities for sample 18000 / 20000\n",
            "[t-SNE] Computed conditional probabilities for sample 19000 / 20000\n",
            "[t-SNE] Computed conditional probabilities for sample 20000 / 20000\n",
            "[t-SNE] Mean sigma: 0.993958\n",
            "[t-SNE] Computed conditional probabilities in 1.754s\n",
            "[t-SNE] Iteration 50: error = 103.3322372, gradient norm = 0.0954126 (50 iterations in 18.575s)\n",
            "[t-SNE] Iteration 100: error = 103.9368134, gradient norm = 0.0804644 (50 iterations in 18.166s)\n",
            "[t-SNE] Iteration 150: error = 103.4562378, gradient norm = 0.1136109 (50 iterations in 19.691s)\n",
            "[t-SNE] Iteration 200: error = 103.7818069, gradient norm = 0.0832446 (50 iterations in 20.486s)\n",
            "[t-SNE] Iteration 250: error = 103.9918976, gradient norm = 0.0606844 (50 iterations in 19.163s)\n",
            "[t-SNE] KL divergence after 250 iterations with early exaggeration: 103.991898\n",
            "[t-SNE] Iteration 300: error = 4.4563298, gradient norm = 0.0049793 (50 iterations in 15.234s)\n",
            "[t-SNE] Iteration 350: error = 3.9042544, gradient norm = 0.0007635 (50 iterations in 14.324s)\n",
            "[t-SNE] Iteration 400: error = 3.6696904, gradient norm = 0.0003731 (50 iterations in 13.511s)\n",
            "[t-SNE] Iteration 450: error = 3.5217927, gradient norm = 0.0002641 (50 iterations in 13.067s)\n",
            "[t-SNE] Iteration 500: error = 3.4143698, gradient norm = 0.0002027 (50 iterations in 13.731s)\n",
            "[t-SNE] Iteration 550: error = 3.3337903, gradient norm = 0.0001609 (50 iterations in 12.887s)\n",
            "[t-SNE] Iteration 600: error = 3.2699475, gradient norm = 0.0001321 (50 iterations in 12.838s)\n",
            "[t-SNE] Iteration 650: error = 3.2179253, gradient norm = 0.0001113 (50 iterations in 12.988s)\n",
            "[t-SNE] Iteration 700: error = 3.1743183, gradient norm = 0.0000960 (50 iterations in 13.044s)\n",
            "[t-SNE] Iteration 750: error = 3.1371696, gradient norm = 0.0000845 (50 iterations in 12.952s)\n",
            "[t-SNE] Iteration 800: error = 3.1054258, gradient norm = 0.0000747 (50 iterations in 12.950s)\n",
            "[t-SNE] Iteration 850: error = 3.0776830, gradient norm = 0.0000675 (50 iterations in 12.948s)\n",
            "[t-SNE] Iteration 900: error = 3.0537629, gradient norm = 0.0000618 (50 iterations in 12.957s)\n",
            "[t-SNE] Iteration 950: error = 3.0329185, gradient norm = 0.0000563 (50 iterations in 12.969s)\n",
            "[t-SNE] Iteration 1000: error = 3.0143452, gradient norm = 0.0000521 (50 iterations in 12.960s)\n",
            "[t-SNE] KL divergence after 1000 iterations: 3.014345\n"
          ],
          "name": "stdout"
        }
      ]
    },
    {
      "cell_type": "code",
      "metadata": {
        "id": "wGbjVHUerEo2",
        "outputId": "2f4d24b2-a798-472c-ee03-ed22e570ed05",
        "colab": {
          "base_uri": "https://localhost:8080/",
          "height": 202
        }
      },
      "source": [
        "df1 = pd.DataFrame(data_embed)\n",
        "df1['word'] = sampled_words\n",
        "df1.columns = ['x', 'y', 'label']\n",
        "df1.head()\n",
        "\n",
        "#df.to_csv('d3-scatterplot/google_news.tsv', sep='\\t', index=False)"
      ],
      "execution_count": 23,
      "outputs": [
        {
          "output_type": "execute_result",
          "data": {
            "text/html": [
              "<div>\n",
              "<style scoped>\n",
              "    .dataframe tbody tr th:only-of-type {\n",
              "        vertical-align: middle;\n",
              "    }\n",
              "\n",
              "    .dataframe tbody tr th {\n",
              "        vertical-align: top;\n",
              "    }\n",
              "\n",
              "    .dataframe thead th {\n",
              "        text-align: right;\n",
              "    }\n",
              "</style>\n",
              "<table border=\"1\" class=\"dataframe\">\n",
              "  <thead>\n",
              "    <tr style=\"text-align: right;\">\n",
              "      <th></th>\n",
              "      <th>x</th>\n",
              "      <th>y</th>\n",
              "      <th>label</th>\n",
              "    </tr>\n",
              "  </thead>\n",
              "  <tbody>\n",
              "    <tr>\n",
              "      <th>0</th>\n",
              "      <td>2.368474</td>\n",
              "      <td>7.460387</td>\n",
              "      <td>&lt;/s&gt;</td>\n",
              "    </tr>\n",
              "    <tr>\n",
              "      <th>1</th>\n",
              "      <td>3.663816</td>\n",
              "      <td>7.725950</td>\n",
              "      <td>in</td>\n",
              "    </tr>\n",
              "    <tr>\n",
              "      <th>2</th>\n",
              "      <td>2.076516</td>\n",
              "      <td>8.843031</td>\n",
              "      <td>for</td>\n",
              "    </tr>\n",
              "    <tr>\n",
              "      <th>3</th>\n",
              "      <td>1.418135</td>\n",
              "      <td>11.168829</td>\n",
              "      <td>that</td>\n",
              "    </tr>\n",
              "    <tr>\n",
              "      <th>4</th>\n",
              "      <td>-4.404289</td>\n",
              "      <td>29.601891</td>\n",
              "      <td>is</td>\n",
              "    </tr>\n",
              "  </tbody>\n",
              "</table>\n",
              "</div>"
            ],
            "text/plain": [
              "          x          y label\n",
              "0  2.368474   7.460387  </s>\n",
              "1  3.663816   7.725950    in\n",
              "2  2.076516   8.843031   for\n",
              "3  1.418135  11.168829  that\n",
              "4 -4.404289  29.601891    is"
            ]
          },
          "metadata": {
            "tags": []
          },
          "execution_count": 23
        }
      ]
    },
    {
      "cell_type": "code",
      "metadata": {
        "id": "0_zDtWvdDy5z",
        "outputId": "57efade2-0dde-4c2f-eee8-932d43fced8f",
        "colab": {
          "base_uri": "https://localhost:8080/",
          "height": 416
        }
      },
      "source": [
        "NUM_CLUSTERS=6\n",
        "kmeans = cluster.KMeans(n_clusters=NUM_CLUSTERS)\n",
        "\n",
        "kmeans.fit(df1[['x', 'y']])\n",
        " \n",
        "labels = kmeans.labels_\n",
        "df1['cluster'] = labels\n",
        "df1\n",
        "#df1.to_csv('d3-scatterplot/google_news.tsv', sep='\\t', index=False)"
      ],
      "execution_count": 48,
      "outputs": [
        {
          "output_type": "execute_result",
          "data": {
            "text/html": [
              "<div>\n",
              "<style scoped>\n",
              "    .dataframe tbody tr th:only-of-type {\n",
              "        vertical-align: middle;\n",
              "    }\n",
              "\n",
              "    .dataframe tbody tr th {\n",
              "        vertical-align: top;\n",
              "    }\n",
              "\n",
              "    .dataframe thead th {\n",
              "        text-align: right;\n",
              "    }\n",
              "</style>\n",
              "<table border=\"1\" class=\"dataframe\">\n",
              "  <thead>\n",
              "    <tr style=\"text-align: right;\">\n",
              "      <th></th>\n",
              "      <th>x</th>\n",
              "      <th>y</th>\n",
              "      <th>label</th>\n",
              "      <th>cluster</th>\n",
              "    </tr>\n",
              "  </thead>\n",
              "  <tbody>\n",
              "    <tr>\n",
              "      <th>0</th>\n",
              "      <td>2.368474</td>\n",
              "      <td>7.460387</td>\n",
              "      <td>&lt;/s&gt;</td>\n",
              "      <td>2</td>\n",
              "    </tr>\n",
              "    <tr>\n",
              "      <th>1</th>\n",
              "      <td>3.663816</td>\n",
              "      <td>7.725950</td>\n",
              "      <td>in</td>\n",
              "      <td>2</td>\n",
              "    </tr>\n",
              "    <tr>\n",
              "      <th>2</th>\n",
              "      <td>2.076516</td>\n",
              "      <td>8.843031</td>\n",
              "      <td>for</td>\n",
              "      <td>2</td>\n",
              "    </tr>\n",
              "    <tr>\n",
              "      <th>3</th>\n",
              "      <td>1.418135</td>\n",
              "      <td>11.168829</td>\n",
              "      <td>that</td>\n",
              "      <td>2</td>\n",
              "    </tr>\n",
              "    <tr>\n",
              "      <th>4</th>\n",
              "      <td>-4.404289</td>\n",
              "      <td>29.601891</td>\n",
              "      <td>is</td>\n",
              "      <td>4</td>\n",
              "    </tr>\n",
              "    <tr>\n",
              "      <th>...</th>\n",
              "      <td>...</td>\n",
              "      <td>...</td>\n",
              "      <td>...</td>\n",
              "      <td>...</td>\n",
              "    </tr>\n",
              "    <tr>\n",
              "      <th>19995</th>\n",
              "      <td>-24.614838</td>\n",
              "      <td>4.776856</td>\n",
              "      <td>greener</td>\n",
              "      <td>0</td>\n",
              "    </tr>\n",
              "    <tr>\n",
              "      <th>19996</th>\n",
              "      <td>-39.399796</td>\n",
              "      <td>1.514906</td>\n",
              "      <td>copyright_infringement</td>\n",
              "      <td>0</td>\n",
              "    </tr>\n",
              "    <tr>\n",
              "      <th>19997</th>\n",
              "      <td>37.479103</td>\n",
              "      <td>-52.685036</td>\n",
              "      <td>SU</td>\n",
              "      <td>1</td>\n",
              "    </tr>\n",
              "    <tr>\n",
              "      <th>19998</th>\n",
              "      <td>4.732991</td>\n",
              "      <td>-49.064915</td>\n",
              "      <td>McCall</td>\n",
              "      <td>1</td>\n",
              "    </tr>\n",
              "    <tr>\n",
              "      <th>19999</th>\n",
              "      <td>-11.476883</td>\n",
              "      <td>-27.029659</td>\n",
              "      <td>NRC</td>\n",
              "      <td>1</td>\n",
              "    </tr>\n",
              "  </tbody>\n",
              "</table>\n",
              "<p>20000 rows × 4 columns</p>\n",
              "</div>"
            ],
            "text/plain": [
              "               x          y                   label  cluster\n",
              "0       2.368474   7.460387                    </s>        2\n",
              "1       3.663816   7.725950                      in        2\n",
              "2       2.076516   8.843031                     for        2\n",
              "3       1.418135  11.168829                    that        2\n",
              "4      -4.404289  29.601891                      is        4\n",
              "...          ...        ...                     ...      ...\n",
              "19995 -24.614838   4.776856                 greener        0\n",
              "19996 -39.399796   1.514906  copyright_infringement        0\n",
              "19997  37.479103 -52.685036                      SU        1\n",
              "19998   4.732991 -49.064915                  McCall        1\n",
              "19999 -11.476883 -27.029659                     NRC        1\n",
              "\n",
              "[20000 rows x 4 columns]"
            ]
          },
          "metadata": {
            "tags": []
          },
          "execution_count": 48
        }
      ]
    },
    {
      "cell_type": "code",
      "metadata": {
        "id": "G-_4b836QrQH"
      },
      "source": [
        "df1.to_csv('d3-scatterplot/google_news.tsv', sep='\\t', index=False)"
      ],
      "execution_count": 49,
      "outputs": []
    },
    {
      "cell_type": "code",
      "metadata": {
        "id": "Hns2UH4xw7Oh",
        "outputId": "ba820e73-7d01-4814-f99f-a85612a00483",
        "colab": {
          "base_uri": "https://localhost:8080/",
          "height": 821
        }
      },
      "source": [
        "def show_port(port, data_file, width=600, height=800):\n",
        "  display(Javascript(\"\"\"\n",
        "  (async ()=>{\n",
        "    fm = document.createElement('iframe')\n",
        "    fm.src = await google.colab.kernel.proxyPort(%d) + '/index.html?dataset=%s'\n",
        "    fm.width = '90%%'\n",
        "    fm.height = '%d'\n",
        "    fm.frameBorder = 0\n",
        "    document.body.append(fm)\n",
        "  })();\n",
        "  \"\"\" % (port, data_file, height)))\n",
        "\n",
        "port = 8000\n",
        "data_file = 'google_news.tsv'\n",
        "height = 1600\n",
        "\n",
        "get_ipython().system_raw('cd d3-scatterplot && python3 -m http.server %d &' % port) \n",
        "show_port(port, data_file, height)"
      ],
      "execution_count": 50,
      "outputs": [
        {
          "output_type": "display_data",
          "data": {
            "application/javascript": [
              "\n",
              "  (async ()=>{\n",
              "    fm = document.createElement('iframe')\n",
              "    fm.src = await google.colab.kernel.proxyPort(8000) + '/index.html?dataset=google_news.tsv'\n",
              "    fm.width = '90%'\n",
              "    fm.height = '800'\n",
              "    fm.frameBorder = 0\n",
              "    document.body.append(fm)\n",
              "  })();\n",
              "  "
            ],
            "text/plain": [
              "<IPython.core.display.Javascript object>"
            ]
          },
          "metadata": {
            "tags": []
          }
        }
      ]
    },
    {
      "cell_type": "code",
      "metadata": {
        "id": "HBKlhC8HuKzN",
        "outputId": "4e2597f7-0b7c-494e-ae21-034957ad2567",
        "colab": {
          "base_uri": "https://localhost:8080/"
        }
      },
      "source": [
        "fairy_tale_vectors=[] ## n by d matrix containing words and their respective vectors\n",
        "for x in unique_words:\n",
        "    fairy_tale_vectors.append(model[x])\n",
        "data_embed2=TSNE(n_components=2, perplexity=50, verbose=2, method='barnes_hut').fit_transform(fairy_tale_vectors)\n"
      ],
      "execution_count": 39,
      "outputs": [
        {
          "output_type": "stream",
          "text": [
            "/usr/local/lib/python3.6/dist-packages/ipykernel_launcher.py:3: DeprecationWarning: Call to deprecated `__getitem__` (Method will be removed in 4.0.0, use self.wv.__getitem__() instead).\n",
            "  This is separate from the ipykernel package so we can avoid doing imports until\n"
          ],
          "name": "stderr"
        },
        {
          "output_type": "stream",
          "text": [
            "[t-SNE] Computing 151 nearest neighbors...\n",
            "[t-SNE] Indexed 13562 samples in 0.029s...\n",
            "[t-SNE] Computed neighbors for 13562 samples in 4.237s...\n",
            "[t-SNE] Computed conditional probabilities for sample 1000 / 13562\n",
            "[t-SNE] Computed conditional probabilities for sample 2000 / 13562\n",
            "[t-SNE] Computed conditional probabilities for sample 3000 / 13562\n",
            "[t-SNE] Computed conditional probabilities for sample 4000 / 13562\n",
            "[t-SNE] Computed conditional probabilities for sample 5000 / 13562\n",
            "[t-SNE] Computed conditional probabilities for sample 6000 / 13562\n",
            "[t-SNE] Computed conditional probabilities for sample 7000 / 13562\n",
            "[t-SNE] Computed conditional probabilities for sample 8000 / 13562\n",
            "[t-SNE] Computed conditional probabilities for sample 9000 / 13562\n",
            "[t-SNE] Computed conditional probabilities for sample 10000 / 13562\n",
            "[t-SNE] Computed conditional probabilities for sample 11000 / 13562\n",
            "[t-SNE] Computed conditional probabilities for sample 12000 / 13562\n",
            "[t-SNE] Computed conditional probabilities for sample 13000 / 13562\n",
            "[t-SNE] Computed conditional probabilities for sample 13562 / 13562\n",
            "[t-SNE] Mean sigma: 0.029441\n",
            "[t-SNE] Computed conditional probabilities in 1.660s\n",
            "[t-SNE] Iteration 50: error = 94.4405975, gradient norm = 0.0065491 (50 iterations in 11.623s)\n",
            "[t-SNE] Iteration 100: error = 84.6287842, gradient norm = 0.0012131 (50 iterations in 7.543s)\n",
            "[t-SNE] Iteration 150: error = 84.1351318, gradient norm = 0.0006936 (50 iterations in 5.853s)\n",
            "[t-SNE] Iteration 200: error = 84.0338898, gradient norm = 0.0005246 (50 iterations in 6.055s)\n",
            "[t-SNE] Iteration 250: error = 83.9756775, gradient norm = 0.0004150 (50 iterations in 6.449s)\n",
            "[t-SNE] KL divergence after 250 iterations with early exaggeration: 83.975677\n",
            "[t-SNE] Iteration 300: error = 3.4448259, gradient norm = 0.0012598 (50 iterations in 6.793s)\n",
            "[t-SNE] Iteration 350: error = 3.1151786, gradient norm = 0.0004672 (50 iterations in 7.084s)\n",
            "[t-SNE] Iteration 400: error = 2.9694476, gradient norm = 0.0002832 (50 iterations in 7.291s)\n",
            "[t-SNE] Iteration 450: error = 2.8802829, gradient norm = 0.0001925 (50 iterations in 7.178s)\n",
            "[t-SNE] Iteration 500: error = 2.8192794, gradient norm = 0.0001474 (50 iterations in 7.374s)\n",
            "[t-SNE] Iteration 550: error = 2.7739580, gradient norm = 0.0001167 (50 iterations in 7.096s)\n",
            "[t-SNE] Iteration 600: error = 2.7388287, gradient norm = 0.0000965 (50 iterations in 7.044s)\n",
            "[t-SNE] Iteration 650: error = 2.7106762, gradient norm = 0.0000819 (50 iterations in 7.098s)\n",
            "[t-SNE] Iteration 700: error = 2.6878099, gradient norm = 0.0000701 (50 iterations in 7.148s)\n",
            "[t-SNE] Iteration 750: error = 2.6685786, gradient norm = 0.0000606 (50 iterations in 7.121s)\n",
            "[t-SNE] Iteration 800: error = 2.6525011, gradient norm = 0.0000534 (50 iterations in 7.262s)\n",
            "[t-SNE] Iteration 850: error = 2.6389754, gradient norm = 0.0000489 (50 iterations in 7.189s)\n",
            "[t-SNE] Iteration 900: error = 2.6274018, gradient norm = 0.0000438 (50 iterations in 7.188s)\n",
            "[t-SNE] Iteration 950: error = 2.6174870, gradient norm = 0.0000402 (50 iterations in 7.187s)\n",
            "[t-SNE] Iteration 1000: error = 2.6089606, gradient norm = 0.0000383 (50 iterations in 7.147s)\n",
            "[t-SNE] KL divergence after 1000 iterations: 2.608961\n"
          ],
          "name": "stdout"
        }
      ]
    },
    {
      "cell_type": "code",
      "metadata": {
        "id": "UwAdhKHLvkYJ",
        "outputId": "78d4b18c-0117-4545-b88f-542b04fc4914",
        "colab": {
          "base_uri": "https://localhost:8080/",
          "height": 202
        }
      },
      "source": [
        "df = pd.DataFrame(data_embed2)\n",
        "df['word'] = unique_words\n",
        "df.columns = ['x', 'y', 'label']\n",
        "df.head()\n",
        "\n",
        "#df.to_csv('d3-scatterplot/darwin.tsv', sep='\\t', index=False)"
      ],
      "execution_count": 40,
      "outputs": [
        {
          "output_type": "execute_result",
          "data": {
            "text/html": [
              "<div>\n",
              "<style scoped>\n",
              "    .dataframe tbody tr th:only-of-type {\n",
              "        vertical-align: middle;\n",
              "    }\n",
              "\n",
              "    .dataframe tbody tr th {\n",
              "        vertical-align: top;\n",
              "    }\n",
              "\n",
              "    .dataframe thead th {\n",
              "        text-align: right;\n",
              "    }\n",
              "</style>\n",
              "<table border=\"1\" class=\"dataframe\">\n",
              "  <thead>\n",
              "    <tr style=\"text-align: right;\">\n",
              "      <th></th>\n",
              "      <th>x</th>\n",
              "      <th>y</th>\n",
              "      <th>label</th>\n",
              "    </tr>\n",
              "  </thead>\n",
              "  <tbody>\n",
              "    <tr>\n",
              "      <th>0</th>\n",
              "      <td>17.795044</td>\n",
              "      <td>6.585582</td>\n",
              "      <td>gaps</td>\n",
              "    </tr>\n",
              "    <tr>\n",
              "      <th>1</th>\n",
              "      <td>2.336856</td>\n",
              "      <td>-21.951586</td>\n",
              "      <td>_Chrysanthemum</td>\n",
              "    </tr>\n",
              "    <tr>\n",
              "      <th>2</th>\n",
              "      <td>19.270681</td>\n",
              "      <td>-3.084370</td>\n",
              "      <td>correspond</td>\n",
              "    </tr>\n",
              "    <tr>\n",
              "      <th>3</th>\n",
              "      <td>-43.115574</td>\n",
              "      <td>13.884892</td>\n",
              "      <td>Their</td>\n",
              "    </tr>\n",
              "    <tr>\n",
              "      <th>4</th>\n",
              "      <td>19.622648</td>\n",
              "      <td>40.680630</td>\n",
              "      <td>divergent</td>\n",
              "    </tr>\n",
              "  </tbody>\n",
              "</table>\n",
              "</div>"
            ],
            "text/plain": [
              "           x          y           label\n",
              "0  17.795044   6.585582            gaps\n",
              "1   2.336856 -21.951586  _Chrysanthemum\n",
              "2  19.270681  -3.084370      correspond\n",
              "3 -43.115574  13.884892           Their\n",
              "4  19.622648  40.680630       divergent"
            ]
          },
          "metadata": {
            "tags": []
          },
          "execution_count": 40
        }
      ]
    },
    {
      "cell_type": "code",
      "metadata": {
        "id": "H2_c5psQRNUO",
        "outputId": "0c8e7fb6-e4a3-45df-b6fd-9b4aecf6e4c2",
        "colab": {
          "base_uri": "https://localhost:8080/",
          "height": 416
        }
      },
      "source": [
        "NUM_CLUSTERS=11\n",
        "kmeans = cluster.KMeans(n_clusters=NUM_CLUSTERS)\n",
        "\n",
        "kmeans.fit(df[['x', 'y']])\n",
        " \n",
        "labels = kmeans.labels_\n",
        "df['cluster'] = labels\n",
        "df.to_csv('d3-scatterplot/darwin.tsv', sep='\\t', index=False)\n",
        "df"
      ],
      "execution_count": 41,
      "outputs": [
        {
          "output_type": "execute_result",
          "data": {
            "text/html": [
              "<div>\n",
              "<style scoped>\n",
              "    .dataframe tbody tr th:only-of-type {\n",
              "        vertical-align: middle;\n",
              "    }\n",
              "\n",
              "    .dataframe tbody tr th {\n",
              "        vertical-align: top;\n",
              "    }\n",
              "\n",
              "    .dataframe thead th {\n",
              "        text-align: right;\n",
              "    }\n",
              "</style>\n",
              "<table border=\"1\" class=\"dataframe\">\n",
              "  <thead>\n",
              "    <tr style=\"text-align: right;\">\n",
              "      <th></th>\n",
              "      <th>x</th>\n",
              "      <th>y</th>\n",
              "      <th>label</th>\n",
              "      <th>cluster</th>\n",
              "    </tr>\n",
              "  </thead>\n",
              "  <tbody>\n",
              "    <tr>\n",
              "      <th>0</th>\n",
              "      <td>17.795044</td>\n",
              "      <td>6.585582</td>\n",
              "      <td>gaps</td>\n",
              "      <td>7</td>\n",
              "    </tr>\n",
              "    <tr>\n",
              "      <th>1</th>\n",
              "      <td>2.336856</td>\n",
              "      <td>-21.951586</td>\n",
              "      <td>_Chrysanthemum</td>\n",
              "      <td>2</td>\n",
              "    </tr>\n",
              "    <tr>\n",
              "      <th>2</th>\n",
              "      <td>19.270681</td>\n",
              "      <td>-3.084370</td>\n",
              "      <td>correspond</td>\n",
              "      <td>7</td>\n",
              "    </tr>\n",
              "    <tr>\n",
              "      <th>3</th>\n",
              "      <td>-43.115574</td>\n",
              "      <td>13.884892</td>\n",
              "      <td>Their</td>\n",
              "      <td>4</td>\n",
              "    </tr>\n",
              "    <tr>\n",
              "      <th>4</th>\n",
              "      <td>19.622648</td>\n",
              "      <td>40.680630</td>\n",
              "      <td>divergent</td>\n",
              "      <td>1</td>\n",
              "    </tr>\n",
              "    <tr>\n",
              "      <th>...</th>\n",
              "      <td>...</td>\n",
              "      <td>...</td>\n",
              "      <td>...</td>\n",
              "      <td>...</td>\n",
              "    </tr>\n",
              "    <tr>\n",
              "      <th>13557</th>\n",
              "      <td>4.668727</td>\n",
              "      <td>23.705069</td>\n",
              "      <td>characterises</td>\n",
              "      <td>8</td>\n",
              "    </tr>\n",
              "    <tr>\n",
              "      <th>13558</th>\n",
              "      <td>-47.338726</td>\n",
              "      <td>9.337958</td>\n",
              "      <td>qu'on</td>\n",
              "      <td>6</td>\n",
              "    </tr>\n",
              "    <tr>\n",
              "      <th>13559</th>\n",
              "      <td>38.361568</td>\n",
              "      <td>-12.697835</td>\n",
              "      <td>originate</td>\n",
              "      <td>3</td>\n",
              "    </tr>\n",
              "    <tr>\n",
              "      <th>13560</th>\n",
              "      <td>-5.824216</td>\n",
              "      <td>50.688648</td>\n",
              "      <td>Emperor</td>\n",
              "      <td>10</td>\n",
              "    </tr>\n",
              "    <tr>\n",
              "      <th>13561</th>\n",
              "      <td>8.533366</td>\n",
              "      <td>0.744094</td>\n",
              "      <td>investigation</td>\n",
              "      <td>2</td>\n",
              "    </tr>\n",
              "  </tbody>\n",
              "</table>\n",
              "<p>13562 rows × 4 columns</p>\n",
              "</div>"
            ],
            "text/plain": [
              "               x          y           label  cluster\n",
              "0      17.795044   6.585582            gaps        7\n",
              "1       2.336856 -21.951586  _Chrysanthemum        2\n",
              "2      19.270681  -3.084370      correspond        7\n",
              "3     -43.115574  13.884892           Their        4\n",
              "4      19.622648  40.680630       divergent        1\n",
              "...          ...        ...             ...      ...\n",
              "13557   4.668727  23.705069   characterises        8\n",
              "13558 -47.338726   9.337958           qu'on        6\n",
              "13559  38.361568 -12.697835       originate        3\n",
              "13560  -5.824216  50.688648         Emperor       10\n",
              "13561   8.533366   0.744094   investigation        2\n",
              "\n",
              "[13562 rows x 4 columns]"
            ]
          },
          "metadata": {
            "tags": []
          },
          "execution_count": 41
        }
      ]
    },
    {
      "cell_type": "code",
      "metadata": {
        "id": "oTJwokAqw_pg",
        "outputId": "0abba168-3644-44f8-d8fe-ad62e4d305c5",
        "colab": {
          "base_uri": "https://localhost:8080/",
          "height": 821
        }
      },
      "source": [
        "port = 8000\n",
        "data_file = 'darwin.tsv'\n",
        "height = 1600\n",
        "\n",
        "get_ipython().system_raw('cd d3-scatterplot && python3 -m http.server %d &' % port) \n",
        "show_port(port, data_file, height)"
      ],
      "execution_count": 42,
      "outputs": [
        {
          "output_type": "display_data",
          "data": {
            "application/javascript": [
              "\n",
              "  (async ()=>{\n",
              "    fm = document.createElement('iframe')\n",
              "    fm.src = await google.colab.kernel.proxyPort(8000) + '/index.html?dataset=darwin.tsv'\n",
              "    fm.width = '90%'\n",
              "    fm.height = '800'\n",
              "    fm.frameBorder = 0\n",
              "    document.body.append(fm)\n",
              "  })();\n",
              "  "
            ],
            "text/plain": [
              "<IPython.core.display.Javascript object>"
            ]
          },
          "metadata": {
            "tags": []
          }
        }
      ]
    },
    {
      "cell_type": "markdown",
      "metadata": {
        "id": "_rmGAir3zolt"
      },
      "source": [
        "![](https://drive.google.com/uc?export=view&id=1XHXV7CDhrrKMMqFV8x_yuRVZy02tX3kZ)\n"
      ]
    },
    {
      "cell_type": "markdown",
      "metadata": {
        "id": "VHot3H-Zt87v"
      },
      "source": [
        "Coloring by 6 clusters (determined by kmeans), I was able to find groupings for the plot. Orange and blue were a little bit harder to decipher and definitely could've been broken up. The green cluster contained a lot of action words and verbs. The red cluster was clearly relating to politics, law, and institutions. The brown cluster contained a lot of locations (cities, countries, etc.). The purple cluster contained a lot of names, professional positions, and things relating to athletics or sports."
      ]
    },
    {
      "cell_type": "markdown",
      "metadata": {
        "id": "e-sl1NAS1jo5"
      },
      "source": [
        "![](https://drive.google.com/uc?export=view&id=1weYrCmxXoPtHoKbOCjPKMXYcqh4-3mpc)"
      ]
    },
    {
      "cell_type": "markdown",
      "metadata": {
        "id": "ZAlpFocev8kt"
      },
      "source": [
        "It was a lot harder finding meaningful clusters with this visualziation and I'm assuming that's because this is a much smaller corpus. I must note that this visualization is a very interesting shape and looks like a sideways c with a very heavy head and smaller tail. Some vague relationships I noticed were that yellow contained adjectives describing the different features of animals, light blue contains locations, and grey contains a lot of animals and their phylogenetic nomenclature. However, within these clusters contain a lot of unrelating words as well."
      ]
    },
    {
      "cell_type": "code",
      "metadata": {
        "id": "VYMKUiUJ1kZt"
      },
      "source": [
        ""
      ],
      "execution_count": null,
      "outputs": []
    }
  ]
}