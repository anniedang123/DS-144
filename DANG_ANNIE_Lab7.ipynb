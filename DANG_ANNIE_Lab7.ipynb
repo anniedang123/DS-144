{
  "nbformat": 4,
  "nbformat_minor": 0,
  "metadata": {
    "colab": {
      "name": "DANG_ANNIE_Lab7",
      "provenance": []
    },
    "kernelspec": {
      "name": "python3",
      "display_name": "Python 3"
    }
  },
  "cells": [
    {
      "cell_type": "markdown",
      "metadata": {
        "id": "9kTKaVK47knP"
      },
      "source": [
        "# Lab 7 Neural Language Model\n",
        "A language model predicts the next word in the sequence based on the specific words that have come before it in the sequence.\n",
        "\n",
        "It is also possible to develop language models at the character level using neural networks. The benefit of character-based language models is their small vocabulary and flexibility in handling any words, punctuation, and other document structure. This comes at the cost of requiring larger models that are slower to train.\n",
        "\n",
        "Nevertheless, in the field of neural language models, character-based models offer a lot of promise for a general, flexible and powerful approach to language modeling."
      ]
    },
    {
      "cell_type": "markdown",
      "metadata": {
        "id": "QK2Ew8_C7knQ"
      },
      "source": [
        "As a prerequisite for the lab, make sure to pip install:\n",
        "- keras\n",
        "- tensorflow\n",
        "- h5py"
      ]
    },
    {
      "cell_type": "markdown",
      "metadata": {
        "id": "xIs5eFI97knR"
      },
      "source": [
        "# Source Text Creation"
      ]
    },
    {
      "cell_type": "markdown",
      "metadata": {
        "id": "zQku8-L97knT"
      },
      "source": [
        "To start out with, we'll be using a simple nursery rhyme. It's quite short so we can actually train something on your CPU and see relatively interesting results. Please copy and paste the following text in a text file and save it as \"rhyme.txt\". Place this in the same directory as this jupyter notebook:"
      ]
    },
    {
      "cell_type": "code",
      "metadata": {
        "id": "6wl1ZLGG7wii",
        "outputId": "4ed4ad56-901c-4e37-fed7-f7cf1f4e1b82",
        "colab": {
          "base_uri": "https://localhost:8080/"
        }
      },
      "source": [
        "!pip install tensorflow\n",
        "!pip install keras\n",
        "!pip install h5py"
      ],
      "execution_count": 94,
      "outputs": [
        {
          "output_type": "stream",
          "text": [
            "Requirement already satisfied: tensorflow in /usr/local/lib/python3.6/dist-packages (2.3.0)\n",
            "Requirement already satisfied: h5py<2.11.0,>=2.10.0 in /usr/local/lib/python3.6/dist-packages (from tensorflow) (2.10.0)\n",
            "Requirement already satisfied: grpcio>=1.8.6 in /usr/local/lib/python3.6/dist-packages (from tensorflow) (1.33.2)\n",
            "Requirement already satisfied: protobuf>=3.9.2 in /usr/local/lib/python3.6/dist-packages (from tensorflow) (3.12.4)\n",
            "Requirement already satisfied: gast==0.3.3 in /usr/local/lib/python3.6/dist-packages (from tensorflow) (0.3.3)\n",
            "Requirement already satisfied: numpy<1.19.0,>=1.16.0 in /usr/local/lib/python3.6/dist-packages (from tensorflow) (1.18.5)\n",
            "Requirement already satisfied: tensorboard<3,>=2.3.0 in /usr/local/lib/python3.6/dist-packages (from tensorflow) (2.3.0)\n",
            "Requirement already satisfied: tensorflow-estimator<2.4.0,>=2.3.0 in /usr/local/lib/python3.6/dist-packages (from tensorflow) (2.3.0)\n",
            "Requirement already satisfied: absl-py>=0.7.0 in /usr/local/lib/python3.6/dist-packages (from tensorflow) (0.10.0)\n",
            "Requirement already satisfied: scipy==1.4.1 in /usr/local/lib/python3.6/dist-packages (from tensorflow) (1.4.1)\n",
            "Requirement already satisfied: google-pasta>=0.1.8 in /usr/local/lib/python3.6/dist-packages (from tensorflow) (0.2.0)\n",
            "Requirement already satisfied: wheel>=0.26 in /usr/local/lib/python3.6/dist-packages (from tensorflow) (0.35.1)\n",
            "Requirement already satisfied: astunparse==1.6.3 in /usr/local/lib/python3.6/dist-packages (from tensorflow) (1.6.3)\n",
            "Requirement already satisfied: termcolor>=1.1.0 in /usr/local/lib/python3.6/dist-packages (from tensorflow) (1.1.0)\n",
            "Requirement already satisfied: opt-einsum>=2.3.2 in /usr/local/lib/python3.6/dist-packages (from tensorflow) (3.3.0)\n",
            "Requirement already satisfied: keras-preprocessing<1.2,>=1.1.1 in /usr/local/lib/python3.6/dist-packages (from tensorflow) (1.1.2)\n",
            "Requirement already satisfied: six>=1.12.0 in /usr/local/lib/python3.6/dist-packages (from tensorflow) (1.15.0)\n",
            "Requirement already satisfied: wrapt>=1.11.1 in /usr/local/lib/python3.6/dist-packages (from tensorflow) (1.12.1)\n",
            "Requirement already satisfied: setuptools in /usr/local/lib/python3.6/dist-packages (from protobuf>=3.9.2->tensorflow) (50.3.2)\n",
            "Requirement already satisfied: google-auth-oauthlib<0.5,>=0.4.1 in /usr/local/lib/python3.6/dist-packages (from tensorboard<3,>=2.3.0->tensorflow) (0.4.2)\n",
            "Requirement already satisfied: google-auth<2,>=1.6.3 in /usr/local/lib/python3.6/dist-packages (from tensorboard<3,>=2.3.0->tensorflow) (1.17.2)\n",
            "Requirement already satisfied: requests<3,>=2.21.0 in /usr/local/lib/python3.6/dist-packages (from tensorboard<3,>=2.3.0->tensorflow) (2.23.0)\n",
            "Requirement already satisfied: tensorboard-plugin-wit>=1.6.0 in /usr/local/lib/python3.6/dist-packages (from tensorboard<3,>=2.3.0->tensorflow) (1.7.0)\n",
            "Requirement already satisfied: werkzeug>=0.11.15 in /usr/local/lib/python3.6/dist-packages (from tensorboard<3,>=2.3.0->tensorflow) (1.0.1)\n",
            "Requirement already satisfied: markdown>=2.6.8 in /usr/local/lib/python3.6/dist-packages (from tensorboard<3,>=2.3.0->tensorflow) (3.3.3)\n",
            "Requirement already satisfied: requests-oauthlib>=0.7.0 in /usr/local/lib/python3.6/dist-packages (from google-auth-oauthlib<0.5,>=0.4.1->tensorboard<3,>=2.3.0->tensorflow) (1.3.0)\n",
            "Requirement already satisfied: rsa<5,>=3.1.4; python_version >= \"3\" in /usr/local/lib/python3.6/dist-packages (from google-auth<2,>=1.6.3->tensorboard<3,>=2.3.0->tensorflow) (4.6)\n",
            "Requirement already satisfied: pyasn1-modules>=0.2.1 in /usr/local/lib/python3.6/dist-packages (from google-auth<2,>=1.6.3->tensorboard<3,>=2.3.0->tensorflow) (0.2.8)\n",
            "Requirement already satisfied: cachetools<5.0,>=2.0.0 in /usr/local/lib/python3.6/dist-packages (from google-auth<2,>=1.6.3->tensorboard<3,>=2.3.0->tensorflow) (4.1.1)\n",
            "Requirement already satisfied: idna<3,>=2.5 in /usr/local/lib/python3.6/dist-packages (from requests<3,>=2.21.0->tensorboard<3,>=2.3.0->tensorflow) (2.10)\n",
            "Requirement already satisfied: chardet<4,>=3.0.2 in /usr/local/lib/python3.6/dist-packages (from requests<3,>=2.21.0->tensorboard<3,>=2.3.0->tensorflow) (3.0.4)\n",
            "Requirement already satisfied: certifi>=2017.4.17 in /usr/local/lib/python3.6/dist-packages (from requests<3,>=2.21.0->tensorboard<3,>=2.3.0->tensorflow) (2020.6.20)\n",
            "Requirement already satisfied: urllib3!=1.25.0,!=1.25.1,<1.26,>=1.21.1 in /usr/local/lib/python3.6/dist-packages (from requests<3,>=2.21.0->tensorboard<3,>=2.3.0->tensorflow) (1.24.3)\n",
            "Requirement already satisfied: importlib-metadata; python_version < \"3.8\" in /usr/local/lib/python3.6/dist-packages (from markdown>=2.6.8->tensorboard<3,>=2.3.0->tensorflow) (2.0.0)\n",
            "Requirement already satisfied: oauthlib>=3.0.0 in /usr/local/lib/python3.6/dist-packages (from requests-oauthlib>=0.7.0->google-auth-oauthlib<0.5,>=0.4.1->tensorboard<3,>=2.3.0->tensorflow) (3.1.0)\n",
            "Requirement already satisfied: pyasn1>=0.1.3 in /usr/local/lib/python3.6/dist-packages (from rsa<5,>=3.1.4; python_version >= \"3\"->google-auth<2,>=1.6.3->tensorboard<3,>=2.3.0->tensorflow) (0.4.8)\n",
            "Requirement already satisfied: zipp>=0.5 in /usr/local/lib/python3.6/dist-packages (from importlib-metadata; python_version < \"3.8\"->markdown>=2.6.8->tensorboard<3,>=2.3.0->tensorflow) (3.4.0)\n",
            "Requirement already satisfied: keras in /usr/local/lib/python3.6/dist-packages (2.4.3)\n",
            "Requirement already satisfied: scipy>=0.14 in /usr/local/lib/python3.6/dist-packages (from keras) (1.4.1)\n",
            "Requirement already satisfied: pyyaml in /usr/local/lib/python3.6/dist-packages (from keras) (3.13)\n",
            "Requirement already satisfied: numpy>=1.9.1 in /usr/local/lib/python3.6/dist-packages (from keras) (1.18.5)\n",
            "Requirement already satisfied: h5py in /usr/local/lib/python3.6/dist-packages (from keras) (2.10.0)\n",
            "Requirement already satisfied: six in /usr/local/lib/python3.6/dist-packages (from h5py->keras) (1.15.0)\n",
            "Requirement already satisfied: h5py in /usr/local/lib/python3.6/dist-packages (2.10.0)\n",
            "Requirement already satisfied: numpy>=1.7 in /usr/local/lib/python3.6/dist-packages (from h5py) (1.18.5)\n",
            "Requirement already satisfied: six in /usr/local/lib/python3.6/dist-packages (from h5py) (1.15.0)\n"
          ],
          "name": "stdout"
        }
      ]
    },
    {
      "cell_type": "code",
      "metadata": {
        "id": "iqQdG7M68HVt"
      },
      "source": [
        "s='Sing a song of sixpence,\\\n",
        "A pocket full of rye.\\\n",
        "Four and twenty blackbirds,\\\n",
        "Baked in a pie.\\\n",
        "When the pie was opened\\\n",
        "The birds began to sing;\\\n",
        "Wasn’t that a dainty dish,\\\n",
        "To set before the king.\\\n",
        "The king was in his counting house,\\\n",
        "Counting out his money;\\\n",
        "The queen was in the parlour,\\\n",
        "Eating bread and honey.\\\n",
        "The maid was in the garden,\\\n",
        "Hanging out the clothes,\\\n",
        "When down came a blackbird\\\n",
        "And pecked off her nose.'\n",
        "\n",
        "with open('rhymes.txt','w') as f:\n",
        "  f.write(s)"
      ],
      "execution_count": 95,
      "outputs": []
    },
    {
      "cell_type": "markdown",
      "metadata": {
        "id": "Gq7wq3fF7knV"
      },
      "source": [
        "    Sing a song of sixpence,\n",
        "    A pocket full of rye.\n",
        "    Four and twenty blackbirds,\n",
        "    Baked in a pie.\n",
        "\n",
        "    When the pie was opened\n",
        "    The birds began to sing;\n",
        "    Wasn’t that a dainty dish,\n",
        "    To set before the king.\n",
        "\n",
        "    The king was in his counting house,\n",
        "    Counting out his money;\n",
        "    The queen was in the parlour,\n",
        "    Eating bread and honey.\n",
        "\n",
        "    The maid was in the garden,\n",
        "    Hanging out the clothes,\n",
        "    When down came a blackbird\n",
        "    And pecked off her nose."
      ]
    },
    {
      "cell_type": "markdown",
      "metadata": {
        "id": "tdOJmdjU7knW"
      },
      "source": [
        "# Sequence Generation\n",
        "\n",
        "A language model must be trained on the text, and in the case of a character-based language model, the input and output sequences must be characters.\n",
        "\n",
        "The number of characters used as input will also define the number of characters that will need to be provided to the model in order to elicit the first predicted character.\n",
        "\n",
        "After the first character has been generated, it can be appended to the input sequence and used as input for the model to generate the next character.\n",
        "\n",
        "Longer sequences offer more context for the model to learn what character to output next but take longer to train and impose more burden on seeding the model when generating text.\n",
        "\n",
        "We will use an arbitrary length of 10 characters for this model.\n",
        "\n",
        "There is not a lot of text, and 10 characters is a few words.\n",
        "\n",
        "We can now transform the raw text into a form that our model can learn; specifically, input and output sequences of characters."
      ]
    },
    {
      "cell_type": "code",
      "metadata": {
        "id": "JjJfvv1U7knY"
      },
      "source": [
        "#load doc into memory\n",
        "def load_doc(filename):\n",
        "    # open the file as read only\n",
        "    file = open(filename, 'r')\n",
        "    # read all text\n",
        "    text = file.read()\n",
        "    # close the file\n",
        "    file.close()\n",
        "    return text\n",
        "# save tokens to file, one dialog per line\n",
        "def save_doc(lines, filename):\n",
        "    data = '\\n'.join(lines)\n",
        "    file = open(filename, 'w')\n",
        "    file.write(data)\n",
        "    file.close()"
      ],
      "execution_count": 96,
      "outputs": []
    },
    {
      "cell_type": "code",
      "metadata": {
        "id": "F6GbMmMs7knb",
        "outputId": "f338239b-70a8-4912-cf3f-a982f0f95cc3",
        "colab": {
          "base_uri": "https://localhost:8080/"
        }
      },
      "source": [
        "#load text\n",
        "raw_text = load_doc('rhymes.txt')\n",
        "print(raw_text)\n",
        "\n",
        "# clean\n",
        "tokens = raw_text.split()\n",
        "raw_text = ' '.join(tokens)\n",
        "\n",
        "# organize into sequences of characters\n",
        "length = 10\n",
        "sequences = list()\n",
        "for i in range(length, len(raw_text)):\n",
        "    # select sequence of tokens\n",
        "    seq = raw_text[i-length:i+1]\n",
        "    # store\n",
        "    sequences.append(seq)\n",
        "print('Total Sequences: %d' % len(sequences))"
      ],
      "execution_count": 97,
      "outputs": [
        {
          "output_type": "stream",
          "text": [
            "Sing a song of sixpence,A pocket full of rye.Four and twenty blackbirds,Baked in a pie.When the pie was openedThe birds began to sing;Wasn’t that a dainty dish,To set before the king.The king was in his counting house,Counting out his money;The queen was in the parlour,Eating bread and honey.The maid was in the garden,Hanging out the clothes,When down came a blackbirdAnd pecked off her nose.\n",
            "Total Sequences: 384\n"
          ],
          "name": "stdout"
        }
      ]
    },
    {
      "cell_type": "code",
      "metadata": {
        "id": "iBepEyDn7kne"
      },
      "source": [
        "# save sequences to file\n",
        "out_filename = 'char_sequences.txt'\n",
        "save_doc(sequences, out_filename)"
      ],
      "execution_count": 98,
      "outputs": []
    },
    {
      "cell_type": "markdown",
      "metadata": {
        "id": "ohjVbv1l7kng"
      },
      "source": [
        "# Train a Model\n",
        "In this section, we will develop a neural language model for the prepared sequence data.\n",
        "\n",
        "The model will read encoded characters and predict the next character in the sequence. A Long Short-Term Memory recurrent neural network hidden layer will be used to learn the context from the input sequence in order to make the predictions."
      ]
    },
    {
      "cell_type": "code",
      "metadata": {
        "id": "7HBgtQvY7knh"
      },
      "source": [
        "from numpy import array\n",
        "from pickle import dump\n",
        "from keras.utils import to_categorical\n",
        "from keras.models import Sequential\n",
        "from keras.layers import Dense\n",
        "from keras.layers import LSTM\n",
        "\n",
        "# load doc into memory\n",
        "def load_doc(filename):\n",
        "    # open the file as read only\n",
        "    file = open(filename, 'r')\n",
        "    # read all text\n",
        "    text = file.read()\n",
        "    # close the file\n",
        "    file.close()\n",
        "    return text"
      ],
      "execution_count": 99,
      "outputs": []
    },
    {
      "cell_type": "code",
      "metadata": {
        "id": "r8ruXoPS7knl"
      },
      "source": [
        "# load\n",
        "\n",
        "in_filename = 'char_sequences.txt'\n",
        "raw_text = load_doc(in_filename)\n",
        "lines = raw_text.split('\\n')"
      ],
      "execution_count": 100,
      "outputs": []
    },
    {
      "cell_type": "markdown",
      "metadata": {
        "id": "uTnvoY-f7kno"
      },
      "source": [
        "The sequences of characters must be encoded as integers.This means that each unique character will be assigned a specific integer value and each sequence of characters will be encoded as a sequence of integers. We can create the mapping given a sorted set of unique characters in the raw input data. The mapping is a dictionary of character values to integer values.\n",
        "\n",
        "Next, we can process each sequence of characters one at a time and use the dictionary mapping to look up the integer value for each character. The result is a list of integer lists.\n",
        "\n",
        "We need to know the size of the vocabulary later. We can retrieve this as the size of the dictionary mapping."
      ]
    },
    {
      "cell_type": "code",
      "metadata": {
        "id": "kMndzt5v7kno",
        "outputId": "a962e327-100f-4a77-f42c-4551a07171d9",
        "colab": {
          "base_uri": "https://localhost:8080/"
        }
      },
      "source": [
        "# integer encode sequences of characters\n",
        "chars = sorted(list(set(raw_text)))\n",
        "mapping = dict((c, i) for i, c in enumerate(chars))\n",
        "sequences = list()\n",
        "for line in lines:\n",
        "    # integer encode line\n",
        "    encoded_seq = [mapping[char] for char in line]\n",
        "    # store\n",
        "    sequences.append(encoded_seq)\n",
        "\n",
        "# vocabulary size\n",
        "vocab_size = len(mapping)\n",
        "print('Vocabulary Size: %d' % vocab_size)\n",
        "\n",
        "# separate into input and output\n",
        "sequences = array(sequences)\n",
        "X, y = sequences[:,:-1], sequences[:,-1]\n",
        "sequences = [to_categorical(x, num_classes=vocab_size) for x in X]\n",
        "X = array(sequences)\n",
        "y = to_categorical(y, num_classes=vocab_size)"
      ],
      "execution_count": 101,
      "outputs": [
        {
          "output_type": "stream",
          "text": [
            "Vocabulary Size: 38\n"
          ],
          "name": "stdout"
        }
      ]
    },
    {
      "cell_type": "markdown",
      "metadata": {
        "id": "0qyCICfV7knx"
      },
      "source": [
        "The model is defined with an input layer that takes sequences that have 10 time steps and 38 features for the one hot encoded input sequences. Rather than specify these numbers, we use the second and third dimensions on the X input data. This is so that if we change the length of the sequences or size of the vocabulary, we do not need to change the model definition.\n",
        "\n",
        "The model has a single LSTM hidden layer with 75 memory cells. The model has a fully connected output layer that outputs one vector with a probability distribution across all characters in the vocabulary. A softmax activation function is used on the output layer to ensure the output has the properties of a probability distribution.\n",
        "\n",
        "The model is learning a multi-class classification problem, therefore we use the categorical log loss intended for this type of problem. The efficient Adam implementation of gradient descent is used to optimize the model and accuracy is reported at the end of each batch update. The model is fit for 50 training epochs.\n",
        "\n",
        "# To Do:\n",
        "- Try different numbers of memory cells\n",
        "- Try different types and amounts of recurrent and fully connected layers\n",
        "- Try different lengths of training epochs\n",
        "- Try different sequence lengths and pre-processing of data\n",
        "- Try regularization techniques such as Dropout"
      ]
    },
    {
      "cell_type": "code",
      "metadata": {
        "scrolled": false,
        "id": "K1jO9lYX7kny",
        "outputId": "b4133838-969c-4deb-97a0-cb7aaf207c58",
        "colab": {
          "base_uri": "https://localhost:8080/"
        }
      },
      "source": [
        "# define model\n",
        "from keras.layers.core import Dense, Activation, Dropout\n",
        "#from keras.regularizers import l2\n",
        "model = Sequential()\n",
        "model.add(LSTM(100, input_shape=(X.shape[1], X.shape[2])))\n",
        "model.add(Dropout(0.2))\n",
        "model.add(Dense(vocab_size, activation='softmax'))\n",
        "print(model.summary())\n",
        "# compile model\n",
        "model.compile(loss='categorical_crossentropy', optimizer='adam', metrics=['accuracy'])\n",
        "# fit model\n",
        "history=model.fit(X, y, epochs=100)"
      ],
      "execution_count": 102,
      "outputs": [
        {
          "output_type": "stream",
          "text": [
            "Model: \"sequential_25\"\n",
            "_________________________________________________________________\n",
            "Layer (type)                 Output Shape              Param #   \n",
            "=================================================================\n",
            "lstm_25 (LSTM)               (None, 100)               55600     \n",
            "_________________________________________________________________\n",
            "dropout_4 (Dropout)          (None, 100)               0         \n",
            "_________________________________________________________________\n",
            "dense_23 (Dense)             (None, 38)                3838      \n",
            "=================================================================\n",
            "Total params: 59,438\n",
            "Trainable params: 59,438\n",
            "Non-trainable params: 0\n",
            "_________________________________________________________________\n",
            "None\n",
            "Epoch 1/100\n",
            "12/12 [==============================] - 0s 9ms/step - loss: 3.6070 - accuracy: 0.1094\n",
            "Epoch 2/100\n",
            "12/12 [==============================] - 0s 7ms/step - loss: 3.4740 - accuracy: 0.1589\n",
            "Epoch 3/100\n",
            "12/12 [==============================] - 0s 9ms/step - loss: 3.1783 - accuracy: 0.1589\n",
            "Epoch 4/100\n",
            "12/12 [==============================] - 0s 8ms/step - loss: 3.1151 - accuracy: 0.1536\n",
            "Epoch 5/100\n",
            "12/12 [==============================] - 0s 8ms/step - loss: 3.0974 - accuracy: 0.1406\n",
            "Epoch 6/100\n",
            "12/12 [==============================] - 0s 8ms/step - loss: 3.0541 - accuracy: 0.1589\n",
            "Epoch 7/100\n",
            "12/12 [==============================] - 0s 7ms/step - loss: 3.0176 - accuracy: 0.1615\n",
            "Epoch 8/100\n",
            "12/12 [==============================] - 0s 8ms/step - loss: 3.0056 - accuracy: 0.1589\n",
            "Epoch 9/100\n",
            "12/12 [==============================] - 0s 7ms/step - loss: 2.9977 - accuracy: 0.1641\n",
            "Epoch 10/100\n",
            "12/12 [==============================] - 0s 8ms/step - loss: 2.9809 - accuracy: 0.1667\n",
            "Epoch 11/100\n",
            "12/12 [==============================] - 0s 7ms/step - loss: 2.9601 - accuracy: 0.1823\n",
            "Epoch 12/100\n",
            "12/12 [==============================] - 0s 8ms/step - loss: 2.9214 - accuracy: 0.1823\n",
            "Epoch 13/100\n",
            "12/12 [==============================] - 0s 7ms/step - loss: 2.8951 - accuracy: 0.1719\n",
            "Epoch 14/100\n",
            "12/12 [==============================] - 0s 7ms/step - loss: 2.8695 - accuracy: 0.1953\n",
            "Epoch 15/100\n",
            "12/12 [==============================] - 0s 7ms/step - loss: 2.8273 - accuracy: 0.1979\n",
            "Epoch 16/100\n",
            "12/12 [==============================] - 0s 8ms/step - loss: 2.8010 - accuracy: 0.2083\n",
            "Epoch 17/100\n",
            "12/12 [==============================] - 0s 7ms/step - loss: 2.7843 - accuracy: 0.2031\n",
            "Epoch 18/100\n",
            "12/12 [==============================] - 0s 7ms/step - loss: 2.7250 - accuracy: 0.2240\n",
            "Epoch 19/100\n",
            "12/12 [==============================] - 0s 7ms/step - loss: 2.6901 - accuracy: 0.2240\n",
            "Epoch 20/100\n",
            "12/12 [==============================] - 0s 7ms/step - loss: 2.6927 - accuracy: 0.2057\n",
            "Epoch 21/100\n",
            "12/12 [==============================] - 0s 7ms/step - loss: 2.6348 - accuracy: 0.2266\n",
            "Epoch 22/100\n",
            "12/12 [==============================] - 0s 7ms/step - loss: 2.6449 - accuracy: 0.2161\n",
            "Epoch 23/100\n",
            "12/12 [==============================] - 0s 7ms/step - loss: 2.5943 - accuracy: 0.2526\n",
            "Epoch 24/100\n",
            "12/12 [==============================] - 0s 7ms/step - loss: 2.6009 - accuracy: 0.2604\n",
            "Epoch 25/100\n",
            "12/12 [==============================] - 0s 8ms/step - loss: 2.5117 - accuracy: 0.2396\n",
            "Epoch 26/100\n",
            "12/12 [==============================] - 0s 8ms/step - loss: 2.4988 - accuracy: 0.2656\n",
            "Epoch 27/100\n",
            "12/12 [==============================] - 0s 8ms/step - loss: 2.4761 - accuracy: 0.2786\n",
            "Epoch 28/100\n",
            "12/12 [==============================] - 0s 9ms/step - loss: 2.4524 - accuracy: 0.2682\n",
            "Epoch 29/100\n",
            "12/12 [==============================] - 0s 8ms/step - loss: 2.3900 - accuracy: 0.3021\n",
            "Epoch 30/100\n",
            "12/12 [==============================] - 0s 8ms/step - loss: 2.3284 - accuracy: 0.3307\n",
            "Epoch 31/100\n",
            "12/12 [==============================] - 0s 8ms/step - loss: 2.2988 - accuracy: 0.3307\n",
            "Epoch 32/100\n",
            "12/12 [==============================] - 0s 8ms/step - loss: 2.2558 - accuracy: 0.3125\n",
            "Epoch 33/100\n",
            "12/12 [==============================] - 0s 8ms/step - loss: 2.2168 - accuracy: 0.3490\n",
            "Epoch 34/100\n",
            "12/12 [==============================] - 0s 8ms/step - loss: 2.2205 - accuracy: 0.3464\n",
            "Epoch 35/100\n",
            "12/12 [==============================] - 0s 10ms/step - loss: 2.1636 - accuracy: 0.3672\n",
            "Epoch 36/100\n",
            "12/12 [==============================] - 0s 9ms/step - loss: 2.1348 - accuracy: 0.3359\n",
            "Epoch 37/100\n",
            "12/12 [==============================] - 0s 8ms/step - loss: 2.0553 - accuracy: 0.3776\n",
            "Epoch 38/100\n",
            "12/12 [==============================] - 0s 8ms/step - loss: 2.0135 - accuracy: 0.4245\n",
            "Epoch 39/100\n",
            "12/12 [==============================] - 0s 8ms/step - loss: 1.9089 - accuracy: 0.4167\n",
            "Epoch 40/100\n",
            "12/12 [==============================] - 0s 8ms/step - loss: 1.8914 - accuracy: 0.4401\n",
            "Epoch 41/100\n",
            "12/12 [==============================] - 0s 9ms/step - loss: 1.8367 - accuracy: 0.4688\n",
            "Epoch 42/100\n",
            "12/12 [==============================] - 0s 8ms/step - loss: 1.8306 - accuracy: 0.4583\n",
            "Epoch 43/100\n",
            "12/12 [==============================] - 0s 9ms/step - loss: 1.7510 - accuracy: 0.4818\n",
            "Epoch 44/100\n",
            "12/12 [==============================] - 0s 8ms/step - loss: 1.6675 - accuracy: 0.5234\n",
            "Epoch 45/100\n",
            "12/12 [==============================] - 0s 8ms/step - loss: 1.6483 - accuracy: 0.5052\n",
            "Epoch 46/100\n",
            "12/12 [==============================] - 0s 8ms/step - loss: 1.6466 - accuracy: 0.5625\n",
            "Epoch 47/100\n",
            "12/12 [==============================] - 0s 8ms/step - loss: 1.5858 - accuracy: 0.5599\n",
            "Epoch 48/100\n",
            "12/12 [==============================] - 0s 9ms/step - loss: 1.5271 - accuracy: 0.5781\n",
            "Epoch 49/100\n",
            "12/12 [==============================] - 0s 9ms/step - loss: 1.5285 - accuracy: 0.5755\n",
            "Epoch 50/100\n",
            "12/12 [==============================] - 0s 8ms/step - loss: 1.4568 - accuracy: 0.5755\n",
            "Epoch 51/100\n",
            "12/12 [==============================] - 0s 8ms/step - loss: 1.3758 - accuracy: 0.6302\n",
            "Epoch 52/100\n",
            "12/12 [==============================] - 0s 9ms/step - loss: 1.3767 - accuracy: 0.6406\n",
            "Epoch 53/100\n",
            "12/12 [==============================] - 0s 8ms/step - loss: 1.2599 - accuracy: 0.6719\n",
            "Epoch 54/100\n",
            "12/12 [==============================] - 0s 8ms/step - loss: 1.2755 - accuracy: 0.6432\n",
            "Epoch 55/100\n",
            "12/12 [==============================] - 0s 9ms/step - loss: 1.1980 - accuracy: 0.6927\n",
            "Epoch 56/100\n",
            "12/12 [==============================] - 0s 8ms/step - loss: 1.1697 - accuracy: 0.6875\n",
            "Epoch 57/100\n",
            "12/12 [==============================] - 0s 8ms/step - loss: 1.1214 - accuracy: 0.7135\n",
            "Epoch 58/100\n",
            "12/12 [==============================] - 0s 8ms/step - loss: 1.0936 - accuracy: 0.7057\n",
            "Epoch 59/100\n",
            "12/12 [==============================] - 0s 9ms/step - loss: 1.0310 - accuracy: 0.7526\n",
            "Epoch 60/100\n",
            "12/12 [==============================] - 0s 9ms/step - loss: 1.0180 - accuracy: 0.7318\n",
            "Epoch 61/100\n",
            "12/12 [==============================] - 0s 9ms/step - loss: 0.9610 - accuracy: 0.7396\n",
            "Epoch 62/100\n",
            "12/12 [==============================] - 0s 8ms/step - loss: 0.9457 - accuracy: 0.7734\n",
            "Epoch 63/100\n",
            "12/12 [==============================] - 0s 8ms/step - loss: 0.8862 - accuracy: 0.7995\n",
            "Epoch 64/100\n",
            "12/12 [==============================] - 0s 8ms/step - loss: 0.9006 - accuracy: 0.7734\n",
            "Epoch 65/100\n",
            "12/12 [==============================] - 0s 8ms/step - loss: 0.8772 - accuracy: 0.7786\n",
            "Epoch 66/100\n",
            "12/12 [==============================] - 0s 8ms/step - loss: 0.8241 - accuracy: 0.7917\n",
            "Epoch 67/100\n",
            "12/12 [==============================] - 0s 8ms/step - loss: 0.7687 - accuracy: 0.8177\n",
            "Epoch 68/100\n",
            "12/12 [==============================] - 0s 8ms/step - loss: 0.7201 - accuracy: 0.8516\n",
            "Epoch 69/100\n",
            "12/12 [==============================] - 0s 9ms/step - loss: 0.7381 - accuracy: 0.8333\n",
            "Epoch 70/100\n",
            "12/12 [==============================] - 0s 9ms/step - loss: 0.6466 - accuracy: 0.8750\n",
            "Epoch 71/100\n",
            "12/12 [==============================] - 0s 8ms/step - loss: 0.6914 - accuracy: 0.8411\n",
            "Epoch 72/100\n",
            "12/12 [==============================] - 0s 9ms/step - loss: 0.6145 - accuracy: 0.8750\n",
            "Epoch 73/100\n",
            "12/12 [==============================] - 0s 8ms/step - loss: 0.5765 - accuracy: 0.9036\n",
            "Epoch 74/100\n",
            "12/12 [==============================] - 0s 8ms/step - loss: 0.5689 - accuracy: 0.8958\n",
            "Epoch 75/100\n",
            "12/12 [==============================] - 0s 8ms/step - loss: 0.5732 - accuracy: 0.8854\n",
            "Epoch 76/100\n",
            "12/12 [==============================] - 0s 8ms/step - loss: 0.5019 - accuracy: 0.9141\n",
            "Epoch 77/100\n",
            "12/12 [==============================] - 0s 8ms/step - loss: 0.5233 - accuracy: 0.9167\n",
            "Epoch 78/100\n",
            "12/12 [==============================] - 0s 8ms/step - loss: 0.5420 - accuracy: 0.8932\n",
            "Epoch 79/100\n",
            "12/12 [==============================] - 0s 9ms/step - loss: 0.4643 - accuracy: 0.9193\n",
            "Epoch 80/100\n",
            "12/12 [==============================] - 0s 8ms/step - loss: 0.4404 - accuracy: 0.9323\n",
            "Epoch 81/100\n",
            "12/12 [==============================] - 0s 9ms/step - loss: 0.4304 - accuracy: 0.9297\n",
            "Epoch 82/100\n",
            "12/12 [==============================] - 0s 8ms/step - loss: 0.4048 - accuracy: 0.9349\n",
            "Epoch 83/100\n",
            "12/12 [==============================] - 0s 8ms/step - loss: 0.3755 - accuracy: 0.9505\n",
            "Epoch 84/100\n",
            "12/12 [==============================] - 0s 9ms/step - loss: 0.3757 - accuracy: 0.9479\n",
            "Epoch 85/100\n",
            "12/12 [==============================] - 0s 9ms/step - loss: 0.3520 - accuracy: 0.9557\n",
            "Epoch 86/100\n",
            "12/12 [==============================] - 0s 9ms/step - loss: 0.3246 - accuracy: 0.9609\n",
            "Epoch 87/100\n",
            "12/12 [==============================] - 0s 10ms/step - loss: 0.3140 - accuracy: 0.9661\n",
            "Epoch 88/100\n",
            "12/12 [==============================] - 0s 8ms/step - loss: 0.3025 - accuracy: 0.9635\n",
            "Epoch 89/100\n",
            "12/12 [==============================] - 0s 9ms/step - loss: 0.3480 - accuracy: 0.9453\n",
            "Epoch 90/100\n",
            "12/12 [==============================] - 0s 8ms/step - loss: 0.3031 - accuracy: 0.9688\n",
            "Epoch 91/100\n",
            "12/12 [==============================] - 0s 9ms/step - loss: 0.2955 - accuracy: 0.9609\n",
            "Epoch 92/100\n",
            "12/12 [==============================] - 0s 8ms/step - loss: 0.2702 - accuracy: 0.9661\n",
            "Epoch 93/100\n",
            "12/12 [==============================] - 0s 8ms/step - loss: 0.2493 - accuracy: 0.9740\n",
            "Epoch 94/100\n",
            "12/12 [==============================] - 0s 9ms/step - loss: 0.2403 - accuracy: 0.9818\n",
            "Epoch 95/100\n",
            "12/12 [==============================] - 0s 8ms/step - loss: 0.2339 - accuracy: 0.9740\n",
            "Epoch 96/100\n",
            "12/12 [==============================] - 0s 10ms/step - loss: 0.2238 - accuracy: 0.9818\n",
            "Epoch 97/100\n",
            "12/12 [==============================] - 0s 9ms/step - loss: 0.2302 - accuracy: 0.9740\n",
            "Epoch 98/100\n",
            "12/12 [==============================] - 0s 8ms/step - loss: 0.2514 - accuracy: 0.9688\n",
            "Epoch 99/100\n",
            "12/12 [==============================] - 0s 8ms/step - loss: 0.2466 - accuracy: 0.9635\n",
            "Epoch 100/100\n",
            "12/12 [==============================] - 0s 8ms/step - loss: 0.2237 - accuracy: 0.9766\n"
          ],
          "name": "stdout"
        }
      ]
    },
    {
      "cell_type": "code",
      "metadata": {
        "id": "raAPR9Qp7kn1"
      },
      "source": [
        "# save the model to file\n",
        "model.save('model.h5')\n",
        "# save the mapping\n",
        "dump(mapping, open('mapping.pkl', 'wb'))"
      ],
      "execution_count": 103,
      "outputs": []
    },
    {
      "cell_type": "markdown",
      "metadata": {
        "id": "vv4Q4Rkf7kn4"
      },
      "source": [
        "# Generating Text"
      ]
    },
    {
      "cell_type": "markdown",
      "metadata": {
        "id": "EigunCf57kn6"
      },
      "source": [
        "We must provide sequences of 10 characters as input to the model in order to start the generation process. We will pick these manually. A given input sequence will need to be prepared in the same way as preparing the training data for the model. "
      ]
    },
    {
      "cell_type": "code",
      "metadata": {
        "id": "6UCWctow7kn-"
      },
      "source": [
        "from pickle import load\n",
        "from keras.models import load_model\n",
        "from keras.utils import to_categorical\n",
        "from keras.preprocessing.sequence import pad_sequences\n",
        "\n",
        "# generate a sequence of characters with a language model\n",
        "def generate_seq(model, mapping, seq_length, seed_text, n_chars):\n",
        "    in_text = seed_text\n",
        "    # generate a fixed number of characters\n",
        "    for _ in range(n_chars):\n",
        "        # encode the characters as integers\n",
        "        encoded = [mapping[char] for char in in_text]\n",
        "        # truncate sequences to a fixed length\n",
        "        encoded = pad_sequences([encoded], maxlen=seq_length, truncating='pre')\n",
        "        # one hot encode\n",
        "        encoded = to_categorical(encoded, num_classes=len(mapping))\n",
        "        # predict character\n",
        "        yhat = model.predict_classes(encoded, verbose=0)\n",
        "        # reverse map integer to character\n",
        "        out_char = ''\n",
        "        for char, index in mapping.items():\n",
        "            if index == yhat:\n",
        "                out_char = char\n",
        "                break\n",
        "        # append to input\n",
        "        in_text += char\n",
        "    return in_text\n",
        "\n",
        "# load the model\n",
        "model = load_model('model.h5')\n",
        "# load the mapping\n",
        "mapping = load(open('mapping.pkl', 'rb'))"
      ],
      "execution_count": 104,
      "outputs": []
    },
    {
      "cell_type": "markdown",
      "metadata": {
        "id": "PXn18EY57koA"
      },
      "source": [
        "Running the example generates three sequences of text.\n",
        "\n",
        "The first is a test to see how the model does at starting from the beginning of the rhyme. The second is a test to see how well it does at beginning in the middle of a line. The final example is a test to see how well it does with a sequence of characters never seen before."
      ]
    },
    {
      "cell_type": "code",
      "metadata": {
        "id": "5UhgrJYh7koB",
        "outputId": "d13ab6c9-0d4f-46a6-a368-009e64cc7632",
        "colab": {
          "base_uri": "https://localhost:8080/"
        }
      },
      "source": [
        "# test start of rhyme\n",
        "print(generate_seq(model, mapping, 10, 'Sing a son', 20))\n",
        "# test mid-line\n",
        "print(generate_seq(model, mapping, 10, 'king was i', 20))\n",
        "# test not in original\n",
        "print(generate_seq(model, mapping, 10, 'hello worl', 20))"
      ],
      "execution_count": 105,
      "outputs": [
        {
          "output_type": "stream",
          "text": [
            "Sing a song of sixpence,A pock\n",
            "king was in his counting house\n",
            "hello worl,.Firdd t  pceeellff\n"
          ],
          "name": "stdout"
        }
      ]
    },
    {
      "cell_type": "markdown",
      "metadata": {
        "id": "UXhN-xhG7koE"
      },
      "source": [
        "If the results aren't satisfactory, try out the suggestions above or these below:\n",
        "- Padding. Update the example to provides sequences line by line only and use padding to fill out each sequence to the maximum line length.\n",
        "- Sequence Length. Experiment with different sequence lengths and see how they impact the behavior of the model.\n",
        "- Tune Model. Experiment with different model configurations, such as the number of memory cells and epochs, and try to develop a better model for fewer resources.\n"
      ]
    },
    {
      "cell_type": "markdown",
      "metadata": {
        "id": "7kyXdm-f7koF"
      },
      "source": [
        "# Deliverables to receive credit\n",
        "\n",
        "1. (4 points) Optimize the cells above to tune the model so that it generates text that closely resembles the orginal line from the rhyme, or at least generates sensible words. It's okay if the third example using unseen text still looks somewhat strange  though. Again, this is a toy problem, as language models require a lot of computation. This toy problem is great for rapid experimentation to explore different aspects of deep learning language models.\n",
        "2. (3 points) Write a function to split the text corpus file into training and validation and pipe the validation data into the model.fit() function to be able to track validation error per epoch. Lookup Keras documentation to see how this is handled.\n",
        "3. (3 points) Write a summary (methods and results) in the cells below of the different things you applied. You must include your intuitions behind what did work and what did not work well.\n",
        "4. (Extra Credit 2.5 points) Do something even more interesting. Try a different source text. Train a word-level model. We'll leave it up to your creativity to explore and write a summary of your methods and results.\n"
      ]
    },
    {
      "cell_type": "markdown",
      "metadata": {
        "id": "WWPll6KzqXmn"
      },
      "source": [
        "## 2. Write a function to split the text corpus file into training and validation and pipe the validation data into the model.fit() function to be able to track validation error per epoch."
      ]
    },
    {
      "cell_type": "code",
      "metadata": {
        "id": "njvIURzq7koG",
        "outputId": "8c51164d-563c-41c4-d7cd-b135c0fc9ef6",
        "colab": {
          "base_uri": "https://localhost:8080/"
        }
      },
      "source": [
        "# define model\n",
        "from keras.layers.core import Dense, Activation, Dropout\n",
        "#from keras.regularizers import l2\n",
        "model = Sequential()\n",
        "model.add(LSTM(100, input_shape=(X.shape[1], X.shape[2])))\n",
        "model.add(Dropout(0.2))\n",
        "model.add(Dense(vocab_size, activation='softmax'))\n",
        "print(model.summary())\n",
        "# compile model\n",
        "model.compile(loss='categorical_crossentropy', optimizer='adam', metrics=['accuracy'])\n",
        "# fit model\n",
        "history=model.fit(X, y, epochs=100, validation_split=.2)"
      ],
      "execution_count": 106,
      "outputs": [
        {
          "output_type": "stream",
          "text": [
            "Model: \"sequential_26\"\n",
            "_________________________________________________________________\n",
            "Layer (type)                 Output Shape              Param #   \n",
            "=================================================================\n",
            "lstm_26 (LSTM)               (None, 100)               55600     \n",
            "_________________________________________________________________\n",
            "dropout_5 (Dropout)          (None, 100)               0         \n",
            "_________________________________________________________________\n",
            "dense_24 (Dense)             (None, 38)                3838      \n",
            "=================================================================\n",
            "Total params: 59,438\n",
            "Trainable params: 59,438\n",
            "Non-trainable params: 0\n",
            "_________________________________________________________________\n",
            "None\n",
            "Epoch 1/100\n",
            "10/10 [==============================] - 1s 52ms/step - loss: 3.6103 - accuracy: 0.0879 - val_loss: 3.5720 - val_accuracy: 0.1688\n",
            "Epoch 2/100\n",
            "10/10 [==============================] - 0s 10ms/step - loss: 3.5103 - accuracy: 0.1759 - val_loss: 3.4166 - val_accuracy: 0.1429\n",
            "Epoch 3/100\n",
            "10/10 [==============================] - 0s 10ms/step - loss: 3.2314 - accuracy: 0.1629 - val_loss: 3.2561 - val_accuracy: 0.1429\n",
            "Epoch 4/100\n",
            "10/10 [==============================] - 0s 10ms/step - loss: 3.1592 - accuracy: 0.1629 - val_loss: 3.1698 - val_accuracy: 0.1429\n",
            "Epoch 5/100\n",
            "10/10 [==============================] - 0s 11ms/step - loss: 3.0799 - accuracy: 0.1792 - val_loss: 3.1473 - val_accuracy: 0.1429\n",
            "Epoch 6/100\n",
            "10/10 [==============================] - 0s 11ms/step - loss: 3.0455 - accuracy: 0.1694 - val_loss: 3.1411 - val_accuracy: 0.1429\n",
            "Epoch 7/100\n",
            "10/10 [==============================] - 0s 11ms/step - loss: 3.0286 - accuracy: 0.1629 - val_loss: 3.1346 - val_accuracy: 0.1429\n",
            "Epoch 8/100\n",
            "10/10 [==============================] - 0s 12ms/step - loss: 3.0088 - accuracy: 0.1726 - val_loss: 3.1256 - val_accuracy: 0.1429\n",
            "Epoch 9/100\n",
            "10/10 [==============================] - 0s 11ms/step - loss: 2.9733 - accuracy: 0.1694 - val_loss: 3.1268 - val_accuracy: 0.1429\n",
            "Epoch 10/100\n",
            "10/10 [==============================] - 0s 12ms/step - loss: 2.9775 - accuracy: 0.1661 - val_loss: 3.1194 - val_accuracy: 0.1429\n",
            "Epoch 11/100\n",
            "10/10 [==============================] - 0s 11ms/step - loss: 2.9720 - accuracy: 0.1759 - val_loss: 3.1157 - val_accuracy: 0.1429\n",
            "Epoch 12/100\n",
            "10/10 [==============================] - 0s 11ms/step - loss: 2.9424 - accuracy: 0.1726 - val_loss: 3.1156 - val_accuracy: 0.1558\n",
            "Epoch 13/100\n",
            "10/10 [==============================] - 0s 10ms/step - loss: 2.9260 - accuracy: 0.1857 - val_loss: 3.1230 - val_accuracy: 0.1688\n",
            "Epoch 14/100\n",
            "10/10 [==============================] - 0s 11ms/step - loss: 2.9059 - accuracy: 0.1726 - val_loss: 3.1258 - val_accuracy: 0.1558\n",
            "Epoch 15/100\n",
            "10/10 [==============================] - 0s 11ms/step - loss: 2.8972 - accuracy: 0.1792 - val_loss: 3.1324 - val_accuracy: 0.1818\n",
            "Epoch 16/100\n",
            "10/10 [==============================] - 0s 10ms/step - loss: 2.8821 - accuracy: 0.1987 - val_loss: 3.1172 - val_accuracy: 0.1818\n",
            "Epoch 17/100\n",
            "10/10 [==============================] - 0s 10ms/step - loss: 2.8417 - accuracy: 0.2020 - val_loss: 3.1106 - val_accuracy: 0.2078\n",
            "Epoch 18/100\n",
            "10/10 [==============================] - 0s 9ms/step - loss: 2.8113 - accuracy: 0.1954 - val_loss: 3.1177 - val_accuracy: 0.1948\n",
            "Epoch 19/100\n",
            "10/10 [==============================] - 0s 10ms/step - loss: 2.8018 - accuracy: 0.1954 - val_loss: 3.1112 - val_accuracy: 0.1948\n",
            "Epoch 20/100\n",
            "10/10 [==============================] - 0s 9ms/step - loss: 2.7823 - accuracy: 0.1922 - val_loss: 3.0955 - val_accuracy: 0.1948\n",
            "Epoch 21/100\n",
            "10/10 [==============================] - 0s 9ms/step - loss: 2.7361 - accuracy: 0.2248 - val_loss: 3.0904 - val_accuracy: 0.1948\n",
            "Epoch 22/100\n",
            "10/10 [==============================] - 0s 9ms/step - loss: 2.7051 - accuracy: 0.2248 - val_loss: 3.1111 - val_accuracy: 0.1948\n",
            "Epoch 23/100\n",
            "10/10 [==============================] - 0s 10ms/step - loss: 2.7108 - accuracy: 0.2085 - val_loss: 3.1256 - val_accuracy: 0.2208\n",
            "Epoch 24/100\n",
            "10/10 [==============================] - 0s 11ms/step - loss: 2.6598 - accuracy: 0.2280 - val_loss: 3.0982 - val_accuracy: 0.2078\n",
            "Epoch 25/100\n",
            "10/10 [==============================] - 0s 10ms/step - loss: 2.6017 - accuracy: 0.2573 - val_loss: 3.1263 - val_accuracy: 0.2208\n",
            "Epoch 26/100\n",
            "10/10 [==============================] - 0s 11ms/step - loss: 2.5923 - accuracy: 0.2313 - val_loss: 3.1157 - val_accuracy: 0.1948\n",
            "Epoch 27/100\n",
            "10/10 [==============================] - 0s 10ms/step - loss: 2.5780 - accuracy: 0.2443 - val_loss: 3.1406 - val_accuracy: 0.2078\n",
            "Epoch 28/100\n",
            "10/10 [==============================] - 0s 11ms/step - loss: 2.5177 - accuracy: 0.2769 - val_loss: 3.1486 - val_accuracy: 0.2078\n",
            "Epoch 29/100\n",
            "10/10 [==============================] - 0s 11ms/step - loss: 2.5085 - accuracy: 0.2573 - val_loss: 3.1440 - val_accuracy: 0.2078\n",
            "Epoch 30/100\n",
            "10/10 [==============================] - 0s 10ms/step - loss: 2.4268 - accuracy: 0.3290 - val_loss: 3.1955 - val_accuracy: 0.1558\n",
            "Epoch 31/100\n",
            "10/10 [==============================] - 0s 11ms/step - loss: 2.4249 - accuracy: 0.2769 - val_loss: 3.1535 - val_accuracy: 0.1558\n",
            "Epoch 32/100\n",
            "10/10 [==============================] - 0s 10ms/step - loss: 2.3588 - accuracy: 0.2866 - val_loss: 3.2024 - val_accuracy: 0.1688\n",
            "Epoch 33/100\n",
            "10/10 [==============================] - 0s 10ms/step - loss: 2.3215 - accuracy: 0.2932 - val_loss: 3.2036 - val_accuracy: 0.1688\n",
            "Epoch 34/100\n",
            "10/10 [==============================] - 0s 13ms/step - loss: 2.2658 - accuracy: 0.2997 - val_loss: 3.2708 - val_accuracy: 0.1429\n",
            "Epoch 35/100\n",
            "10/10 [==============================] - 0s 11ms/step - loss: 2.2248 - accuracy: 0.3453 - val_loss: 3.2887 - val_accuracy: 0.1818\n",
            "Epoch 36/100\n",
            "10/10 [==============================] - 0s 12ms/step - loss: 2.2267 - accuracy: 0.3192 - val_loss: 3.2588 - val_accuracy: 0.1558\n",
            "Epoch 37/100\n",
            "10/10 [==============================] - 0s 10ms/step - loss: 2.1229 - accuracy: 0.3616 - val_loss: 3.3425 - val_accuracy: 0.1688\n",
            "Epoch 38/100\n",
            "10/10 [==============================] - 0s 10ms/step - loss: 2.1022 - accuracy: 0.3322 - val_loss: 3.3279 - val_accuracy: 0.1299\n",
            "Epoch 39/100\n",
            "10/10 [==============================] - 0s 11ms/step - loss: 2.0480 - accuracy: 0.3974 - val_loss: 3.4013 - val_accuracy: 0.1429\n",
            "Epoch 40/100\n",
            "10/10 [==============================] - 0s 10ms/step - loss: 2.0023 - accuracy: 0.3876 - val_loss: 3.3908 - val_accuracy: 0.1429\n",
            "Epoch 41/100\n",
            "10/10 [==============================] - 0s 11ms/step - loss: 1.9568 - accuracy: 0.4039 - val_loss: 3.4102 - val_accuracy: 0.1429\n",
            "Epoch 42/100\n",
            "10/10 [==============================] - 0s 11ms/step - loss: 1.9066 - accuracy: 0.4235 - val_loss: 3.4793 - val_accuracy: 0.1688\n",
            "Epoch 43/100\n",
            "10/10 [==============================] - 0s 11ms/step - loss: 1.8555 - accuracy: 0.4495 - val_loss: 3.4641 - val_accuracy: 0.1688\n",
            "Epoch 44/100\n",
            "10/10 [==============================] - 0s 11ms/step - loss: 1.8362 - accuracy: 0.4593 - val_loss: 3.5308 - val_accuracy: 0.1558\n",
            "Epoch 45/100\n",
            "10/10 [==============================] - 0s 10ms/step - loss: 1.8064 - accuracy: 0.4625 - val_loss: 3.5553 - val_accuracy: 0.1688\n",
            "Epoch 46/100\n",
            "10/10 [==============================] - 0s 10ms/step - loss: 1.7352 - accuracy: 0.4984 - val_loss: 3.5600 - val_accuracy: 0.1688\n",
            "Epoch 47/100\n",
            "10/10 [==============================] - 0s 10ms/step - loss: 1.6628 - accuracy: 0.4658 - val_loss: 3.6465 - val_accuracy: 0.1818\n",
            "Epoch 48/100\n",
            "10/10 [==============================] - 0s 11ms/step - loss: 1.6416 - accuracy: 0.5375 - val_loss: 3.6545 - val_accuracy: 0.1299\n",
            "Epoch 49/100\n",
            "10/10 [==============================] - 0s 12ms/step - loss: 1.6287 - accuracy: 0.5147 - val_loss: 3.6405 - val_accuracy: 0.1688\n",
            "Epoch 50/100\n",
            "10/10 [==============================] - 0s 11ms/step - loss: 1.5772 - accuracy: 0.5472 - val_loss: 3.6808 - val_accuracy: 0.1039\n",
            "Epoch 51/100\n",
            "10/10 [==============================] - 0s 10ms/step - loss: 1.5035 - accuracy: 0.5733 - val_loss: 3.6431 - val_accuracy: 0.1169\n",
            "Epoch 52/100\n",
            "10/10 [==============================] - 0s 12ms/step - loss: 1.4674 - accuracy: 0.5472 - val_loss: 3.6927 - val_accuracy: 0.1429\n",
            "Epoch 53/100\n",
            "10/10 [==============================] - 0s 12ms/step - loss: 1.3910 - accuracy: 0.5896 - val_loss: 3.7556 - val_accuracy: 0.1169\n",
            "Epoch 54/100\n",
            "10/10 [==============================] - 0s 10ms/step - loss: 1.3881 - accuracy: 0.5896 - val_loss: 3.8404 - val_accuracy: 0.0909\n",
            "Epoch 55/100\n",
            "10/10 [==============================] - 0s 11ms/step - loss: 1.3276 - accuracy: 0.6254 - val_loss: 3.9132 - val_accuracy: 0.1299\n",
            "Epoch 56/100\n",
            "10/10 [==============================] - 0s 10ms/step - loss: 1.2859 - accuracy: 0.6384 - val_loss: 3.8719 - val_accuracy: 0.1429\n",
            "Epoch 57/100\n",
            "10/10 [==============================] - 0s 11ms/step - loss: 1.2399 - accuracy: 0.6873 - val_loss: 3.8673 - val_accuracy: 0.0909\n",
            "Epoch 58/100\n",
            "10/10 [==============================] - 0s 12ms/step - loss: 1.2195 - accuracy: 0.6515 - val_loss: 3.9232 - val_accuracy: 0.1169\n",
            "Epoch 59/100\n",
            "10/10 [==============================] - 0s 12ms/step - loss: 1.1331 - accuracy: 0.6840 - val_loss: 3.9186 - val_accuracy: 0.0519\n",
            "Epoch 60/100\n",
            "10/10 [==============================] - 0s 11ms/step - loss: 1.0875 - accuracy: 0.7166 - val_loss: 4.0139 - val_accuracy: 0.0649\n",
            "Epoch 61/100\n",
            "10/10 [==============================] - 0s 11ms/step - loss: 1.0614 - accuracy: 0.7166 - val_loss: 3.9791 - val_accuracy: 0.0649\n",
            "Epoch 62/100\n",
            "10/10 [==============================] - 0s 11ms/step - loss: 1.0252 - accuracy: 0.7329 - val_loss: 4.0421 - val_accuracy: 0.0519\n",
            "Epoch 63/100\n",
            "10/10 [==============================] - 0s 11ms/step - loss: 1.0087 - accuracy: 0.7459 - val_loss: 4.0726 - val_accuracy: 0.0779\n",
            "Epoch 64/100\n",
            "10/10 [==============================] - 0s 9ms/step - loss: 0.9608 - accuracy: 0.7785 - val_loss: 4.1130 - val_accuracy: 0.0649\n",
            "Epoch 65/100\n",
            "10/10 [==============================] - 0s 11ms/step - loss: 0.8770 - accuracy: 0.7818 - val_loss: 4.1026 - val_accuracy: 0.0779\n",
            "Epoch 66/100\n",
            "10/10 [==============================] - 0s 11ms/step - loss: 0.8799 - accuracy: 0.7915 - val_loss: 4.1998 - val_accuracy: 0.1169\n",
            "Epoch 67/100\n",
            "10/10 [==============================] - 0s 11ms/step - loss: 0.8610 - accuracy: 0.8241 - val_loss: 4.1720 - val_accuracy: 0.1169\n",
            "Epoch 68/100\n",
            "10/10 [==============================] - 0s 10ms/step - loss: 0.7982 - accuracy: 0.8176 - val_loss: 4.2435 - val_accuracy: 0.1039\n",
            "Epoch 69/100\n",
            "10/10 [==============================] - 0s 11ms/step - loss: 0.7679 - accuracy: 0.8111 - val_loss: 4.2112 - val_accuracy: 0.0649\n",
            "Epoch 70/100\n",
            "10/10 [==============================] - 0s 10ms/step - loss: 0.7465 - accuracy: 0.8274 - val_loss: 4.2914 - val_accuracy: 0.0779\n",
            "Epoch 71/100\n",
            "10/10 [==============================] - 0s 10ms/step - loss: 0.7453 - accuracy: 0.8176 - val_loss: 4.3679 - val_accuracy: 0.1039\n",
            "Epoch 72/100\n",
            "10/10 [==============================] - 0s 11ms/step - loss: 0.6911 - accuracy: 0.8436 - val_loss: 4.3849 - val_accuracy: 0.0779\n",
            "Epoch 73/100\n",
            "10/10 [==============================] - 0s 11ms/step - loss: 0.6524 - accuracy: 0.8632 - val_loss: 4.4507 - val_accuracy: 0.0909\n",
            "Epoch 74/100\n",
            "10/10 [==============================] - 0s 11ms/step - loss: 0.6222 - accuracy: 0.8730 - val_loss: 4.5319 - val_accuracy: 0.1039\n",
            "Epoch 75/100\n",
            "10/10 [==============================] - 0s 11ms/step - loss: 0.6419 - accuracy: 0.8697 - val_loss: 4.5285 - val_accuracy: 0.0649\n",
            "Epoch 76/100\n",
            "10/10 [==============================] - 0s 10ms/step - loss: 0.5759 - accuracy: 0.8958 - val_loss: 4.4379 - val_accuracy: 0.0519\n",
            "Epoch 77/100\n",
            "10/10 [==============================] - 0s 12ms/step - loss: 0.5283 - accuracy: 0.9218 - val_loss: 4.4652 - val_accuracy: 0.0649\n",
            "Epoch 78/100\n",
            "10/10 [==============================] - 0s 11ms/step - loss: 0.5294 - accuracy: 0.9218 - val_loss: 4.5433 - val_accuracy: 0.0779\n",
            "Epoch 79/100\n",
            "10/10 [==============================] - 0s 11ms/step - loss: 0.5230 - accuracy: 0.9218 - val_loss: 4.5993 - val_accuracy: 0.0649\n",
            "Epoch 80/100\n",
            "10/10 [==============================] - 0s 10ms/step - loss: 0.4803 - accuracy: 0.9251 - val_loss: 4.5971 - val_accuracy: 0.0519\n",
            "Epoch 81/100\n",
            "10/10 [==============================] - 0s 10ms/step - loss: 0.4401 - accuracy: 0.9251 - val_loss: 4.6853 - val_accuracy: 0.0779\n",
            "Epoch 82/100\n",
            "10/10 [==============================] - 0s 11ms/step - loss: 0.4332 - accuracy: 0.9283 - val_loss: 4.8113 - val_accuracy: 0.0909\n",
            "Epoch 83/100\n",
            "10/10 [==============================] - 0s 11ms/step - loss: 0.4201 - accuracy: 0.9479 - val_loss: 4.6671 - val_accuracy: 0.0519\n",
            "Epoch 84/100\n",
            "10/10 [==============================] - 0s 10ms/step - loss: 0.3991 - accuracy: 0.9544 - val_loss: 4.8130 - val_accuracy: 0.0779\n",
            "Epoch 85/100\n",
            "10/10 [==============================] - 0s 11ms/step - loss: 0.3780 - accuracy: 0.9414 - val_loss: 4.8364 - val_accuracy: 0.0779\n",
            "Epoch 86/100\n",
            "10/10 [==============================] - 0s 11ms/step - loss: 0.3733 - accuracy: 0.9544 - val_loss: 4.8830 - val_accuracy: 0.0519\n",
            "Epoch 87/100\n",
            "10/10 [==============================] - 0s 10ms/step - loss: 0.3515 - accuracy: 0.9544 - val_loss: 4.7730 - val_accuracy: 0.0779\n",
            "Epoch 88/100\n",
            "10/10 [==============================] - 0s 10ms/step - loss: 0.3531 - accuracy: 0.9674 - val_loss: 4.9133 - val_accuracy: 0.1039\n",
            "Epoch 89/100\n",
            "10/10 [==============================] - 0s 10ms/step - loss: 0.3188 - accuracy: 0.9739 - val_loss: 4.9165 - val_accuracy: 0.0909\n",
            "Epoch 90/100\n",
            "10/10 [==============================] - 0s 10ms/step - loss: 0.2950 - accuracy: 0.9674 - val_loss: 5.0849 - val_accuracy: 0.0779\n",
            "Epoch 91/100\n",
            "10/10 [==============================] - 0s 11ms/step - loss: 0.3038 - accuracy: 0.9707 - val_loss: 5.0243 - val_accuracy: 0.0649\n",
            "Epoch 92/100\n",
            "10/10 [==============================] - 0s 11ms/step - loss: 0.2832 - accuracy: 0.9805 - val_loss: 5.0092 - val_accuracy: 0.0779\n",
            "Epoch 93/100\n",
            "10/10 [==============================] - 0s 10ms/step - loss: 0.2598 - accuracy: 0.9870 - val_loss: 5.0961 - val_accuracy: 0.0909\n",
            "Epoch 94/100\n",
            "10/10 [==============================] - 0s 11ms/step - loss: 0.2615 - accuracy: 0.9739 - val_loss: 5.1144 - val_accuracy: 0.1039\n",
            "Epoch 95/100\n",
            "10/10 [==============================] - 0s 10ms/step - loss: 0.2691 - accuracy: 0.9707 - val_loss: 5.0603 - val_accuracy: 0.0779\n",
            "Epoch 96/100\n",
            "10/10 [==============================] - 0s 11ms/step - loss: 0.2497 - accuracy: 0.9837 - val_loss: 5.0971 - val_accuracy: 0.0519\n",
            "Epoch 97/100\n",
            "10/10 [==============================] - 0s 10ms/step - loss: 0.2401 - accuracy: 0.9739 - val_loss: 5.2329 - val_accuracy: 0.0649\n",
            "Epoch 98/100\n",
            "10/10 [==============================] - 0s 10ms/step - loss: 0.2189 - accuracy: 0.9772 - val_loss: 5.1624 - val_accuracy: 0.0909\n",
            "Epoch 99/100\n",
            "10/10 [==============================] - 0s 10ms/step - loss: 0.2212 - accuracy: 0.9772 - val_loss: 5.2299 - val_accuracy: 0.0909\n",
            "Epoch 100/100\n",
            "10/10 [==============================] - 0s 11ms/step - loss: 0.2014 - accuracy: 0.9837 - val_loss: 5.2474 - val_accuracy: 0.0909\n"
          ],
          "name": "stdout"
        }
      ]
    },
    {
      "cell_type": "markdown",
      "metadata": {
        "id": "WS2W-jRe078B"
      },
      "source": [
        "## 3. Summary\n",
        "\n",
        "The first thing I tried was adding more memory cells and increasing the epochs. I added more memory cells because I figured it's better for the model to hold more information in the hidden layer and possibly even attain more information every increasing time step with more memory cells. I do recognize this is costly because the model would have to learn and optimize a bunch more weights. I increased the number of epochs so that the model can continue training and iteratively improve its weights to improve accuracy. I first started off with smaller increments to add to the current memory cell and epoch values but I still was receiving gibberish when the model was used to generate sequences. Thus, I had to increase it to 110 and 120 to get the desired results of this lab. I then ran this model on 20% validation data and checked the accuracy for each epoch to see if it overfit. Unsurpringly, the data was extremeley overfit, with the accuracy reaching 100% in multiple epochs. This was expected because the goal was to get good yield for the first two sequences and with a severely lacking training set, it's almost impossible not to overfit. In other words, I was aiming for high accuracy so that the sequences could be correct but that also meant the model would have to practically memorize the training data. Thus, in order to prevent overfitting, I tried two techniques: using l2 regularization on kernel_regularizer/activity_regularizer and adding drop out layers. I decided to add regularization on kernal and activity because the kernel regularizer tries to reduce the weights and the activity regularizer tries to reduce the layer's output by reducing weights and adjusting bias. I wanted to focus on reducing weights/bias because adding more epochs allows the model to continue training and thus increases the risk of the weights and biases being tuned to such an extent that the model performs poorly on unseen data. I used L2 regularization because I just wanted a reduction in larger components of the weight matrix instead of a sparser matrix with zeros (as in L1 regularization). I also added dropout layers because I learned that this will help prevent overfitting by ignoring random neurons during training, reducing the sensitivity to specific weights of individual neurons. I used 20% dropout because I read that its a good compromise between retaining accruacy and preventing overfitting. When I implemented the two regularizations and the dropout, I think the data was regularized too much that it began to lose accuracy, therefore, when I ran the sequence generator, the three sequences were back to gibberish. Thus I decided to remove the kernal/activity regularizers and just keep the dropout layers. I then adjusted the memory cells and epoch so that they were lower, but still high enough to achieve good accuracy. This new and final model generated the right sequences for the first two sequences and was still gibberish for the last but that is to be expected. Finally, I ran a 20% validation set through this model and while I still sense overfitting just by looking through the accuracy of each epoch, it was lower than the accuracies of the validation runthrough of the previous model. Overall, the final model still overfits (which is expected if we want high accuracy for the first two sequences from a small training data), but it overfit a lot less than my previous models.\n"
      ]
    },
    {
      "cell_type": "code",
      "metadata": {
        "id": "bh9kQZnr7koK"
      },
      "source": [
        ""
      ],
      "execution_count": null,
      "outputs": []
    }
  ]
}