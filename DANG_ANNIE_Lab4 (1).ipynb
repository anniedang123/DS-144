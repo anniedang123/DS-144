{
  "nbformat": 4,
  "nbformat_minor": 0,
  "metadata": {
    "colab": {
      "name": "DANG_ANNIE_Lab4",
      "provenance": [],
      "collapsed_sections": [
        "GTO2KMti07__",
        "YAnuY8Sv1DoO",
        "ZlDfGvy61EMS",
        "1foS74O01FfP",
        "2rFY8D4Q1GsZ"
      ]
    },
    "kernelspec": {
      "name": "python3",
      "display_name": "Python 3"
    }
  },
  "cells": [
    {
      "cell_type": "markdown",
      "metadata": {
        "id": "1xxMXNDF7ckw",
        "colab_type": "text"
      },
      "source": [
        "\n",
        "\n",
        "```\n",
        "# This is formatted as code\n",
        "```\n",
        "\n",
        "# DMA Fall 20\n",
        "\n",
        "**Note** : This entire lab will be manually evaluated.\n",
        "\n",
        "Name : 'Annie Dang'\n",
        "Collaborator : ''"
      ]
    },
    {
      "cell_type": "markdown",
      "metadata": {
        "id": "Oyb_RNpFreOr",
        "colab_type": "text"
      },
      "source": [
        "# Lab 4: Neural Networks #\n"
      ]
    },
    {
      "cell_type": "code",
      "metadata": {
        "id": "yj9Uh79ereOs",
        "colab_type": "code",
        "colab": {}
      },
      "source": [
        "import pandas as pd\n",
        "from sklearn.neural_network import MLPClassifier\n",
        "from sklearn.svm import SVC\n",
        "\n",
        "from sklearn.preprocessing import StandardScaler, MinMaxScaler\n",
        "from sklearn.preprocessing import LabelEncoder, OneHotEncoder\n",
        "from sklearn.feature_extraction import DictVectorizer\n",
        "\n",
        "from sklearn.pipeline import Pipeline\n",
        "from sklearn.metrics import accuracy_score\n",
        "from sklearn.model_selection import train_test_split\n",
        "from sklearn.model_selection import GridSearchCV, ParameterGrid\n",
        "\n",
        "import numpy as np\n",
        "\n",
        "import warnings\n",
        "warnings.filterwarnings(\"ignore\")"
      ],
      "execution_count": 67,
      "outputs": []
    },
    {
      "cell_type": "code",
      "metadata": {
        "id": "n6SRFrhfreOt",
        "colab_type": "code",
        "colab": {
          "base_uri": "https://localhost:8080/",
          "height": 649
        },
        "outputId": "f2fd946f-46f7-4776-fffe-9b3008162afb"
      },
      "source": [
        "!wget http://people.ischool.berkeley.edu/~zp/course_datasets/lab_4_training.csv\n",
        "!wget http://people.ischool.berkeley.edu/~zp/course_datasets/lab_4_test.csv\n",
        "\n",
        "df_train = pd.read_csv('./lab_4_training.csv')\n",
        "df_test = pd.read_csv('./lab_4_test.csv')\n",
        "df_train.head()"
      ],
      "execution_count": 68,
      "outputs": [
        {
          "output_type": "stream",
          "text": [
            "URL transformed to HTTPS due to an HSTS policy\n",
            "--2020-09-23 02:59:47--  https://people.ischool.berkeley.edu/~zp/course_datasets/lab_4_training.csv\n",
            "Resolving people.ischool.berkeley.edu (people.ischool.berkeley.edu)... 128.32.78.16\n",
            "Connecting to people.ischool.berkeley.edu (people.ischool.berkeley.edu)|128.32.78.16|:443... connected.\n",
            "HTTP request sent, awaiting response... 200 OK\n",
            "Length: 105581 (103K) [text/csv]\n",
            "Saving to: ‘lab_4_training.csv.3’\n",
            "\n",
            "lab_4_training.csv. 100%[===================>] 103.11K   488KB/s    in 0.2s    \n",
            "\n",
            "2020-09-23 02:59:48 (488 KB/s) - ‘lab_4_training.csv.3’ saved [105581/105581]\n",
            "\n",
            "URL transformed to HTTPS due to an HSTS policy\n",
            "--2020-09-23 02:59:48--  https://people.ischool.berkeley.edu/~zp/course_datasets/lab_4_test.csv\n",
            "Resolving people.ischool.berkeley.edu (people.ischool.berkeley.edu)... 128.32.78.16\n",
            "Connecting to people.ischool.berkeley.edu (people.ischool.berkeley.edu)|128.32.78.16|:443... connected.\n",
            "HTTP request sent, awaiting response... 200 OK\n",
            "Length: 26523 (26K) [text/csv]\n",
            "Saving to: ‘lab_4_test.csv.3’\n",
            "\n",
            "lab_4_test.csv.3    100%[===================>]  25.90K  --.-KB/s    in 0.07s   \n",
            "\n",
            "2020-09-23 02:59:48 (390 KB/s) - ‘lab_4_test.csv.3’ saved [26523/26523]\n",
            "\n"
          ],
          "name": "stdout"
        },
        {
          "output_type": "execute_result",
          "data": {
            "text/html": [
              "<div>\n",
              "<style scoped>\n",
              "    .dataframe tbody tr th:only-of-type {\n",
              "        vertical-align: middle;\n",
              "    }\n",
              "\n",
              "    .dataframe tbody tr th {\n",
              "        vertical-align: top;\n",
              "    }\n",
              "\n",
              "    .dataframe thead th {\n",
              "        text-align: right;\n",
              "    }\n",
              "</style>\n",
              "<table border=\"1\" class=\"dataframe\">\n",
              "  <thead>\n",
              "    <tr style=\"text-align: right;\">\n",
              "      <th></th>\n",
              "      <th>Unnamed: 0</th>\n",
              "      <th>gender</th>\n",
              "      <th>age</th>\n",
              "      <th>year</th>\n",
              "      <th>eyecolor</th>\n",
              "      <th>height</th>\n",
              "      <th>miles</th>\n",
              "      <th>brothers</th>\n",
              "      <th>sisters</th>\n",
              "      <th>computertime</th>\n",
              "      <th>exercise</th>\n",
              "      <th>exercisehours</th>\n",
              "      <th>musiccds</th>\n",
              "      <th>playgames</th>\n",
              "      <th>watchtv</th>\n",
              "    </tr>\n",
              "  </thead>\n",
              "  <tbody>\n",
              "    <tr>\n",
              "      <th>0</th>\n",
              "      <td>1303</td>\n",
              "      <td>male</td>\n",
              "      <td>20</td>\n",
              "      <td>second</td>\n",
              "      <td>green</td>\n",
              "      <td>73.0</td>\n",
              "      <td>210.0</td>\n",
              "      <td>0</td>\n",
              "      <td>1</td>\n",
              "      <td>10.0</td>\n",
              "      <td>Yes</td>\n",
              "      <td>5.0</td>\n",
              "      <td>50.0</td>\n",
              "      <td>1.0</td>\n",
              "      <td>15.0</td>\n",
              "    </tr>\n",
              "    <tr>\n",
              "      <th>1</th>\n",
              "      <td>36</td>\n",
              "      <td>male</td>\n",
              "      <td>20</td>\n",
              "      <td>third</td>\n",
              "      <td>other</td>\n",
              "      <td>71.0</td>\n",
              "      <td>90.0</td>\n",
              "      <td>1</td>\n",
              "      <td>0</td>\n",
              "      <td>15.0</td>\n",
              "      <td>Yes</td>\n",
              "      <td>4.0</td>\n",
              "      <td>10.0</td>\n",
              "      <td>0.0</td>\n",
              "      <td>1.0</td>\n",
              "    </tr>\n",
              "    <tr>\n",
              "      <th>2</th>\n",
              "      <td>489</td>\n",
              "      <td>male</td>\n",
              "      <td>22</td>\n",
              "      <td>fourth</td>\n",
              "      <td>hazel</td>\n",
              "      <td>75.0</td>\n",
              "      <td>200.0</td>\n",
              "      <td>0</td>\n",
              "      <td>1</td>\n",
              "      <td>1.0</td>\n",
              "      <td>Yes</td>\n",
              "      <td>2.0</td>\n",
              "      <td>150.0</td>\n",
              "      <td>1.0</td>\n",
              "      <td>10.0</td>\n",
              "    </tr>\n",
              "    <tr>\n",
              "      <th>3</th>\n",
              "      <td>1415</td>\n",
              "      <td>male</td>\n",
              "      <td>19</td>\n",
              "      <td>second</td>\n",
              "      <td>brown</td>\n",
              "      <td>72.0</td>\n",
              "      <td>35.0</td>\n",
              "      <td>2</td>\n",
              "      <td>2</td>\n",
              "      <td>20.0</td>\n",
              "      <td>Yes</td>\n",
              "      <td>5.0</td>\n",
              "      <td>100.0</td>\n",
              "      <td>0.0</td>\n",
              "      <td>7.0</td>\n",
              "    </tr>\n",
              "    <tr>\n",
              "      <th>4</th>\n",
              "      <td>616</td>\n",
              "      <td>male</td>\n",
              "      <td>22</td>\n",
              "      <td>fourth</td>\n",
              "      <td>hazel</td>\n",
              "      <td>71.0</td>\n",
              "      <td>15.0</td>\n",
              "      <td>2</td>\n",
              "      <td>1</td>\n",
              "      <td>10.0</td>\n",
              "      <td>Yes</td>\n",
              "      <td>7.0</td>\n",
              "      <td>10.0</td>\n",
              "      <td>0.0</td>\n",
              "      <td>5.0</td>\n",
              "    </tr>\n",
              "  </tbody>\n",
              "</table>\n",
              "</div>"
            ],
            "text/plain": [
              "   Unnamed: 0 gender  age    year  ... exercisehours  musiccds  playgames  watchtv\n",
              "0        1303   male   20  second  ...           5.0      50.0        1.0     15.0\n",
              "1          36   male   20   third  ...           4.0      10.0        0.0      1.0\n",
              "2         489   male   22  fourth  ...           2.0     150.0        1.0     10.0\n",
              "3        1415   male   19  second  ...           5.0     100.0        0.0      7.0\n",
              "4         616   male   22  fourth  ...           7.0      10.0        0.0      5.0\n",
              "\n",
              "[5 rows x 15 columns]"
            ]
          },
          "metadata": {
            "tags": []
          },
          "execution_count": 68
        }
      ]
    },
    {
      "cell_type": "markdown",
      "metadata": {
        "id": "RGt_10ZAreOv",
        "colab_type": "text"
      },
      "source": [
        "***\n",
        "### Question 1###\n",
        "Calculate a baseline accuracy measure using the majority class, assuming a target variable of 'gender'. The majority class is the most common value of the target variable in a particular dataset. Accuracy is calculated as (true positives + true negatives) / (all negatives and positives)"
      ]
    },
    {
      "cell_type": "markdown",
      "metadata": {
        "id": "UZPiLgekreOw",
        "colab_type": "text"
      },
      "source": [
        "**Question 1.a**  \n",
        "Find the majority class in the training set. If you always predicted this class in the training set, what would your accuracy be?"
      ]
    },
    {
      "cell_type": "code",
      "metadata": {
        "id": "iYjEFc1greOx",
        "colab_type": "code",
        "colab": {
          "base_uri": "https://localhost:8080/",
          "height": 34
        },
        "outputId": "74b71a67-e804-48cd-a0ca-516f7af0ca24"
      },
      "source": [
        "df_train.groupby(\"gender\").size()\n",
        "TP = 855\n",
        "FP = 735\n",
        "FN = TN = 0\n",
        "accuracy = (TP+TN)/(TP+FP+FN+TN)\n",
        "accuracy"
      ],
      "execution_count": 69,
      "outputs": [
        {
          "output_type": "execute_result",
          "data": {
            "text/plain": [
              "0.5377358490566038"
            ]
          },
          "metadata": {
            "tags": []
          },
          "execution_count": 69
        }
      ]
    },
    {
      "cell_type": "markdown",
      "metadata": {
        "id": "RtvFM-hM0y2o",
        "colab_type": "text"
      },
      "source": [
        "###ANSWER: The accuracy would be 0.5377358490566038"
      ]
    },
    {
      "cell_type": "markdown",
      "metadata": {
        "id": "ULPKW0IvreOy",
        "colab_type": "text"
      },
      "source": [
        "**Question 1.b**   \n",
        "If you always predicted this same class (majority from the training set) in the test set, what would your accuracy be?"
      ]
    },
    {
      "cell_type": "code",
      "metadata": {
        "colab_type": "code",
        "id": "dfU5mwh405vq",
        "colab": {
          "base_uri": "https://localhost:8080/",
          "height": 34
        },
        "outputId": "94c80331-02f7-4410-807f-f54f5bf6b9e6"
      },
      "source": [
        "df_test.groupby(\"gender\").size()\n",
        "TP = 208\n",
        "FP = 190\n",
        "FN = TN = 0\n",
        "accuracy = (TP+TN)/(TP+FP+FN+TN)\n",
        "accuracy"
      ],
      "execution_count": 70,
      "outputs": [
        {
          "output_type": "execute_result",
          "data": {
            "text/plain": [
              "0.5226130653266332"
            ]
          },
          "metadata": {
            "tags": []
          },
          "execution_count": 70
        }
      ]
    },
    {
      "cell_type": "markdown",
      "metadata": {
        "colab_type": "text",
        "id": "pINRUJxG05v4"
      },
      "source": [
        "###ANSWER: The accuracy would be 0.5226130653266332."
      ]
    },
    {
      "cell_type": "markdown",
      "metadata": {
        "id": "GKb2Ju-GreO0",
        "colab_type": "text"
      },
      "source": [
        "***\n",
        "### Question 2 ###\n",
        "Get started with Neural Networks."
      ]
    },
    {
      "cell_type": "markdown",
      "metadata": {
        "id": "UYI6e3F3reO0",
        "colab_type": "text"
      },
      "source": [
        "   \n",
        "Choose a NN implementation (eg: scikit-learn) and specify which you choose. Be sure the implementation allows you to modify the number of hidden layers and hidden nodes per layer.  \n",
        "\n",
        "NOTE: When possible, specify the logsig (sigmoid/logistc) function as the transfer function (another word for activation function) and use Levenberg-Marquardt backpropagation (lbfgs). It is possible to specify logistic in Sklearn MLPclassifier (Neural net).  "
      ]
    },
    {
      "cell_type": "markdown",
      "metadata": {
        "id": "4am3sGc4reO1",
        "colab_type": "text"
      },
      "source": [
        "**Question 2.a**   \n",
        "Train a neural network with a single 10 node hidden layer. Only use the Height feature of the dataset to predict the Gender. You will have to change Gender to a 0 and 1 class. After training, use your trained model to predict the class using the height feature from the training set. What was the accuracy of this prediction?"
      ]
    },
    {
      "cell_type": "code",
      "metadata": {
        "colab_type": "code",
        "id": "jbAzltaw067l",
        "colab": {
          "base_uri": "https://localhost:8080/",
          "height": 34
        },
        "outputId": "e886872b-2324-4a88-8d97-3aaa767ba90c"
      },
      "source": [
        "import sklearn\n",
        "from sklearn.tree import DecisionTreeClassifier\n",
        "from sklearn.preprocessing import LabelEncoder\n",
        "\n",
        "from sklearn.neural_network import MLPClassifier\n",
        "\n",
        "lb_make = LabelEncoder()\n",
        "df_train[\"gender\"] = lb_make.fit_transform(df_train[\"gender\"])\n",
        "\n",
        " \n",
        "X = np.array(df_train[\"height\"]).reshape(-1, 1) \n",
        "Y = df_train[\"gender\"]\n",
        "model = MLPClassifier(solver='lbfgs', hidden_layer_sizes=10, random_state=42,activation=\"logistic\")\n",
        "model.fit(X, Y)\n",
        "model.predict(X)\n",
        "model.score(X, Y)\n"
      ],
      "execution_count": 71,
      "outputs": [
        {
          "output_type": "execute_result",
          "data": {
            "text/plain": [
              "0.8465408805031447"
            ]
          },
          "metadata": {
            "tags": []
          },
          "execution_count": 71
        }
      ]
    },
    {
      "cell_type": "markdown",
      "metadata": {
        "colab_type": "text",
        "id": "EuaCk0l0067q"
      },
      "source": [
        "###ANSWER: The accuracy is 0.8465408805031447."
      ]
    },
    {
      "cell_type": "markdown",
      "metadata": {
        "id": "AkqzIeshreO2",
        "colab_type": "text"
      },
      "source": [
        "**Question 2.b**  \n",
        "Take the trained model from question 2.a and use it to predict the test set. This can be accomplished by taking the trained model and giving it the Height feature values from the test set. What is the accuracy of this model on the test set?"
      ]
    },
    {
      "cell_type": "code",
      "metadata": {
        "colab_type": "code",
        "id": "Tw25ezWp07hj",
        "colab": {
          "base_uri": "https://localhost:8080/",
          "height": 34
        },
        "outputId": "9def196f-1947-4277-9eba-98b3c4eac3d5"
      },
      "source": [
        "df_test[\"gender\"] = lb_make.fit_transform(df_test[\"gender\"])\n",
        "\n",
        "model.predict(np.array(df_test[\"height\"]).reshape(-1, 1))\n",
        "model.score(np.array(df_test[\"height\"]).reshape(-1, 1) , df_test[\"gender\"])"
      ],
      "execution_count": 72,
      "outputs": [
        {
          "output_type": "execute_result",
          "data": {
            "text/plain": [
              "0.8542713567839196"
            ]
          },
          "metadata": {
            "tags": []
          },
          "execution_count": 72
        }
      ]
    },
    {
      "cell_type": "markdown",
      "metadata": {
        "colab_type": "text",
        "id": "HbHMAFvw07hm"
      },
      "source": [
        "###ANSWER: The accuracy of this model on the test set is 0.8542713567839196."
      ]
    },
    {
      "cell_type": "markdown",
      "metadata": {
        "id": "uMmIfsNEreO3",
        "colab_type": "text"
      },
      "source": [
        "**Question 2.c**   \n",
        "Neural Networks tend to prefer smaller, normalized feature values. Try taking the log of the height feature in both training and testing sets or use a Standard Scalar operation in SKlearn to centre and normalize the data between 0-1 for continuous values. Repeat question 2.a and 2.b with the log version or the normalized and centered version of this feature"
      ]
    },
    {
      "cell_type": "code",
      "metadata": {
        "colab_type": "code",
        "id": "wDhCZPaU07_8",
        "colab": {
          "base_uri": "https://localhost:8080/",
          "height": 51
        },
        "outputId": "57b83e47-c260-444d-b9e7-0728da8ad1c9"
      },
      "source": [
        "model = MLPClassifier(solver='lbfgs', hidden_layer_sizes=10, random_state=42,activation=\"logistic\")\n",
        "model.fit(np.log(np.array(df_train[\"height\"]).reshape(-1, 1)), df_train[\"gender\"])\n",
        "\n",
        "print(model.score(np.log(np.array(df_train[\"height\"]).reshape(-1, 1)), df_train[\"gender\"]))\n",
        "print(model.score(np.log(np.array(df_test[\"height\"]).reshape(-1, 1)), df_test[\"gender\"]))"
      ],
      "execution_count": 73,
      "outputs": [
        {
          "output_type": "stream",
          "text": [
            "0.8465408805031447\n",
            "0.8542713567839196\n"
          ],
          "name": "stdout"
        }
      ]
    },
    {
      "cell_type": "markdown",
      "metadata": {
        "colab_type": "text",
        "id": "GTO2KMti07__"
      },
      "source": [
        "###ANSWER: The model acheived 0.8465408805031447 accuracy for the training set and 0.8542713567839196 for the test set.\n",
        "\n",
        "*  0.8465408805031447 accuracy for the training set\n",
        "*  0.8542713567839196 accuracy for the test set\n",
        "\n"
      ]
    },
    {
      "cell_type": "markdown",
      "metadata": {
        "id": "2_SlOdcarePC",
        "colab_type": "text"
      },
      "source": [
        "***\n",
        "\n",
        "### Question 3###\n",
        "The rest of features in this dataset barring a few are categorical. No ML method accepts categorical features, so transform year, eyecolor, exercise into a set of binary features, one feature per unique original feature value, and mark the binary feature as ‘1’ if the feature value matches the original value and ‘0’ otherwise. Using only these binary variable transformed features, train and predict the class of the test set. What was your accuracy using Neural Network with a single 10 node hidden layer? During training, use a maximum number of iterations of 50."
      ]
    },
    {
      "cell_type": "code",
      "metadata": {
        "colab_type": "code",
        "id": "YjhzBFNV1Aip",
        "colab": {
          "base_uri": "https://localhost:8080/",
          "height": 51
        },
        "outputId": "86504e7b-9184-4bb1-ac56-745dc9532774"
      },
      "source": [
        "df_train2 = df_train[['year', 'eyecolor', 'exercise', 'gender']]\n",
        "df_train2 = pd.get_dummies(df_train2, columns=[\"year\", \"eyecolor\", \"exercise\"])\n",
        "df_test2 = df_test[['year', 'eyecolor', 'exercise', 'gender']]\n",
        "df_test2 = pd.get_dummies(df_test2, columns=[\"year\", \"eyecolor\", \"exercise\"])\n",
        "X = df_train2.iloc[:, 1:]\n",
        "Y = df_train2[['gender']]\n",
        "X_test = df_test2.iloc[:, 1:]\n",
        "Y_test = df_test2[['gender']]\n",
        "\n",
        "model = MLPClassifier(solver='lbfgs', hidden_layer_sizes=10, random_state=42, activation=\"logistic\", max_iter=50)\n",
        "model.fit(X, Y)\n",
        "print(model.score(X, Y))\n",
        "print(model.score(X_test, Y_test))"
      ],
      "execution_count": 74,
      "outputs": [
        {
          "output_type": "stream",
          "text": [
            "0.5710691823899371\n",
            "0.5728643216080402\n"
          ],
          "name": "stdout"
        }
      ]
    },
    {
      "cell_type": "markdown",
      "metadata": {
        "colab_type": "text",
        "id": "PyQ1EvAY1Ait"
      },
      "source": [
        "###ANSWER: Accuracy for the test set is 0.5728643216080402."
      ]
    },
    {
      "cell_type": "markdown",
      "metadata": {
        "id": "dSSr9sBlrePG",
        "colab_type": "text"
      },
      "source": [
        "***\n",
        "### Question 4###\n",
        "Using a NN, report the accuracy on  the test set of a model that trained only on the height and the eye color features of instances in the training set."
      ]
    },
    {
      "cell_type": "markdown",
      "metadata": {
        "id": "rMNSlOmJrePG",
        "colab_type": "text"
      },
      "source": [
        "**Question 4.a**  \n",
        "What is the accuracy on the test set using the original height values (no pre-processing) and eye color as a one-hot?"
      ]
    },
    {
      "cell_type": "code",
      "metadata": {
        "colab_type": "code",
        "id": "F_vN4tyv1Ckq",
        "colab": {
          "base_uri": "https://localhost:8080/",
          "height": 51
        },
        "outputId": "e466907d-b500-45ab-e02d-ad2c7d7f96ac"
      },
      "source": [
        "df_train3 = df_train[['gender', 'height', 'eyecolor']]\n",
        "df_train3 = pd.get_dummies(df_train3, columns= [\"eyecolor\"])\n",
        "X_train3 = df_train3.iloc[:, 1:]\n",
        "Y_train3 = df_train3['gender']\n",
        "\n",
        "df_test3 = df_test[['gender', 'height', 'eyecolor']]\n",
        "df_test3 = pd.get_dummies(df_test3, columns = ['eyecolor'])\n",
        "X_test3 = df_test3.iloc[:,1:]\n",
        "Y_test3 = df_test3['gender']\n",
        "\n",
        "model = MLPClassifier(solver='lbfgs', hidden_layer_sizes=10, random_state=42, activation=\"logistic\", max_iter=50)\n",
        "model.fit(X_train3, Y_train3)\n",
        "print(model.score(X_train3, Y_train3))\n",
        "print(model.score(X_test3, Y_test3))\n"
      ],
      "execution_count": 75,
      "outputs": [
        {
          "output_type": "stream",
          "text": [
            "0.7327044025157232\n",
            "0.7361809045226131\n"
          ],
          "name": "stdout"
        }
      ]
    },
    {
      "cell_type": "markdown",
      "metadata": {
        "colab_type": "text",
        "id": "CaL2o0TW1Cks"
      },
      "source": [
        "###ANSWER: Accuracy for the test set using original height and eyecolor is 0.7361809045226131."
      ]
    },
    {
      "cell_type": "markdown",
      "metadata": {
        "id": "NC8Ipx9QrePH",
        "colab_type": "text"
      },
      "source": [
        "**Question 4.b**  \n",
        "What is the accuracy on the test set using the log of height values (applied to both training and testing sets) and eye color as a one-hot?"
      ]
    },
    {
      "cell_type": "code",
      "metadata": {
        "colab_type": "code",
        "id": "cFvzNv6O1DG3",
        "colab": {
          "base_uri": "https://localhost:8080/",
          "height": 527
        },
        "outputId": "175abbfa-408b-4f3c-8697-b97425c7c1a7"
      },
      "source": [
        "df_train4 = df_train3\n",
        "df_train4['height'] = np.log(df_train['height'])\n",
        "X_train4 = df_train4.iloc[:, 1:]\n",
        "Y_train4 = df_train4['gender']\n",
        "\n",
        "df_test4 = df_test3\n",
        "df_test4['height'] = np.log(df_test['height'])\n",
        "X_test4 = df_test4.iloc[:,1:]\n",
        "Y_test4 = df_test4['gender']\n",
        "print(X_train4[['height']])\n",
        "print(X_test4[['height']])\n",
        "model = MLPClassifier(solver='lbfgs', hidden_layer_sizes=10, random_state=42, activation=\"logistic\", max_iter=50)\n",
        "model.fit(X_train4, Y_train4)\n",
        "print(model.score(X_train4, Y_train4))\n",
        "print(model.score(X_test4, Y_test4))"
      ],
      "execution_count": 76,
      "outputs": [
        {
          "output_type": "stream",
          "text": [
            "        height\n",
            "0     4.290459\n",
            "1     4.262680\n",
            "2     4.317488\n",
            "3     4.276666\n",
            "4     4.262680\n",
            "...        ...\n",
            "1585  4.189655\n",
            "1586  4.304065\n",
            "1587  4.204693\n",
            "1588  4.189655\n",
            "1589  4.219508\n",
            "\n",
            "[1590 rows x 1 columns]\n",
            "       height\n",
            "0    4.290459\n",
            "1    4.262680\n",
            "2    4.317488\n",
            "3    4.276666\n",
            "4    4.262680\n",
            "..        ...\n",
            "393  4.204693\n",
            "394  4.158883\n",
            "395  4.290459\n",
            "396  4.127134\n",
            "397  4.204693\n",
            "\n",
            "[398 rows x 1 columns]\n",
            "0.809433962264151\n",
            "0.8040201005025126\n"
          ],
          "name": "stdout"
        }
      ]
    },
    {
      "cell_type": "markdown",
      "metadata": {
        "colab_type": "text",
        "id": "Pt3NMp1M1DG4"
      },
      "source": [
        "###ANSWER: The accuracy of the test set using log height and eyecolor is 0.8040201005025126."
      ]
    },
    {
      "cell_type": "markdown",
      "metadata": {
        "id": "iYm2jqnprePI",
        "colab_type": "text"
      },
      "source": [
        "**Question 4.c**  \n",
        "What is the accuracy on the test set using the Z-score of height values and eye color as a one-hot? \n",
        "\n",
        "Z-score is a normalization function. It is the value of a feature minus the average value for that feature (in the training set), divided by the standard deviation of that feature (in the training set). Remember that, whenever applying a function to a feature in the training set, it also has to be applied to that same feature in the test set."
      ]
    },
    {
      "cell_type": "code",
      "metadata": {
        "colab_type": "code",
        "id": "P3mDjF6N1DoN",
        "colab": {
          "base_uri": "https://localhost:8080/",
          "height": 527
        },
        "outputId": "11390290-d2b7-406e-923f-b1a062b96698"
      },
      "source": [
        "def z_score(col):\n",
        "  me = np.mean(col)\n",
        "  std = np.std(col)\n",
        "  return (col - me)/std\n",
        "\n",
        "df_train5 = df_train3\n",
        "df_train5['height'] = z_score(df_train['height'])\n",
        "X_train5 = df_train5.iloc[:, 1:]\n",
        "Y_train5 = df_train5['gender']\n",
        "\n",
        "df_test5 = df_test3\n",
        "df_test5['height'] = z_score(df_test['height'])\n",
        "X_test5 = df_test5.iloc[:,1:]\n",
        "Y_test5 = df_test5['gender']\n",
        "print(X_train5[['height']])\n",
        "print(X_test5[['height']])\n",
        "model = MLPClassifier(solver='lbfgs', hidden_layer_sizes=10, random_state=42, activation=\"logistic\", max_iter=50)\n",
        "model.fit(X_train5, Y_train5)\n",
        "print(model.score(X_train5, Y_train5))\n",
        "print(model.score(X_test5, Y_test5))\n"
      ],
      "execution_count": 77,
      "outputs": [
        {
          "output_type": "stream",
          "text": [
            "        height\n",
            "0     1.097386\n",
            "1     0.626888\n",
            "2     1.567885\n",
            "3     0.862137\n",
            "4     0.626888\n",
            "...        ...\n",
            "1585 -0.549359\n",
            "1586  1.332635\n",
            "1587 -0.314110\n",
            "1588 -0.549359\n",
            "1589 -0.078860\n",
            "\n",
            "[1590 rows x 1 columns]\n",
            "       height\n",
            "0    1.100168\n",
            "1    0.628837\n",
            "2    1.571500\n",
            "3    0.864502\n",
            "4    0.628837\n",
            "..        ...\n",
            "393 -0.313826\n",
            "394 -1.020823\n",
            "395  1.100168\n",
            "396 -1.492155\n",
            "397 -0.313826\n",
            "\n",
            "[398 rows x 1 columns]\n",
            "0.8534591194968554\n",
            "0.8693467336683417\n"
          ],
          "name": "stdout"
        }
      ]
    },
    {
      "cell_type": "markdown",
      "metadata": {
        "colab_type": "text",
        "id": "YAnuY8Sv1DoO"
      },
      "source": [
        "###ANSWER: The accuracy for the testing set using the z-score of height and eyecolor is 0.8693467336683417."
      ]
    },
    {
      "cell_type": "markdown",
      "metadata": {
        "id": "Fh9qwu_9rePJ",
        "colab_type": "text"
      },
      "source": [
        "***\n",
        "### Question 5 ###\n",
        "Repeat question 4 for exercise hours + eye color"
      ]
    },
    {
      "cell_type": "code",
      "metadata": {
        "colab_type": "code",
        "id": "JAgHz_r-1EMR",
        "colab": {
          "base_uri": "https://localhost:8080/",
          "height": 119
        },
        "outputId": "81e4e7ce-a124-4b4c-cd5d-a85ee171377c"
      },
      "source": [
        "from scipy import stats\n",
        "\n",
        "df_train6 = df_train[['gender', 'exercisehours', 'eyecolor']]\n",
        "df_train6 = pd.get_dummies(df_train6, columns= [\"eyecolor\"])\n",
        "X_train6 = df_train6.iloc[:, 1:]\n",
        "Y_train6 = df_train6['gender']\n",
        "\n",
        "df_test6 = df_test[['gender', 'exercisehours', 'eyecolor']]\n",
        "df_test6 = pd.get_dummies(df_test6, columns = ['eyecolor'])\n",
        "X_test6 = df_test6.iloc[:,1:]\n",
        "Y_test6 = df_test6['gender']\n",
        "\n",
        "model = MLPClassifier(solver='lbfgs', hidden_layer_sizes=10, random_state=42, activation=\"logistic\", max_iter=50)\n",
        "model.fit(X_train6, Y_train6)\n",
        "print(model.score(X_train6, Y_train6))\n",
        "print(\"Accuracy of test using exercisehours & eyecolor: \",model.score(X_test6, Y_test6))\n",
        "\n",
        "df_train7 = df_train[['gender', 'exercisehours', 'eyecolor']]\n",
        "df_train7 = pd.get_dummies(df_train7, columns= [\"eyecolor\"])\n",
        "df_train7['exercisehours'] = np.log(df_train['exercisehours'])\n",
        "df_train7['exercisehours'] = df_train7['exercisehours'].replace(-np.inf, 0)\n",
        "X_train7 = df_train7.iloc[:, 1:]\n",
        "Y_train7 = df_train7['gender']\n",
        "\n",
        "df_test7 = df_test[['gender', 'exercisehours', 'eyecolor']]\n",
        "df_test7 = pd.get_dummies(df_test7, columns = ['eyecolor'])\n",
        "df_test7['exercisehours'] = np.log(df_test['exercisehours'])\n",
        "df_test7['exercisehours'] = df_test7['exercisehours'].replace(-np.inf, 0)\n",
        "X_test7 = df_test7.iloc[:,1:]\n",
        "Y_test7 = df_test7['gender']\n",
        "\n",
        "model = MLPClassifier(solver='lbfgs', hidden_layer_sizes=10, random_state=42, activation=\"logistic\", max_iter=50)\n",
        "model.fit(X_train7, Y_train7)\n",
        "print(model.score(X_train7, Y_train7))\n",
        "print(\"Accuracy of test using log exercisehours & eyecolor: \",model.score(X_test7, Y_test7))\n",
        "\n",
        "df_train8 = df_train[['gender', 'exercisehours', 'eyecolor']]\n",
        "df_train8 = pd.get_dummies(df_train8, columns= [\"eyecolor\"])\n",
        "df_train8['exercisehours'] = stats.zscore(df_train['exercisehours'])\n",
        "X_train8 = df_train8.iloc[:, 1:]\n",
        "Y_train8 = df_train8['gender']\n",
        "\n",
        "df_test8 = df_test[['gender', 'exercisehours', 'eyecolor']]\n",
        "df_test8 = pd.get_dummies(df_test8, columns = ['eyecolor'])\n",
        "df_test8['exercisehours'] = stats.zscore(df_test['exercisehours'])\n",
        "X_test8 = df_test8.iloc[:,1:]\n",
        "Y_test8 = df_test8['gender']\n",
        "\n",
        "model = MLPClassifier(solver='lbfgs', hidden_layer_sizes=10, random_state=42, activation=\"logistic\", max_iter=50)\n",
        "model.fit(X_train8, Y_train8)\n",
        "model.predict(X_train8)\n",
        "print(model.score(X_train8, Y_train8))\n",
        "print(\"Accuracy of test using z-score exercisehours & eyecolor: \", model.score(X_test8, Y_test8))\n",
        "\n"
      ],
      "execution_count": 78,
      "outputs": [
        {
          "output_type": "stream",
          "text": [
            "0.5886792452830188\n",
            "Accuracy of test using exercisehours & eyecolor:  0.5778894472361809\n",
            "0.5786163522012578\n",
            "Accuracy of test using log exercisehours & eyecolor:  0.5653266331658291\n",
            "0.5786163522012578\n",
            "Accuracy of test using z-score exercisehours & eyecolor:  0.5653266331658291\n"
          ],
          "name": "stdout"
        }
      ]
    },
    {
      "cell_type": "markdown",
      "metadata": {
        "colab_type": "text",
        "id": "ZlDfGvy61EMS"
      },
      "source": [
        "###ANSWER: The accuracy for test set using original exercise hours and eyecolor is 0.5778894472361809. The accuracy for using log exercise hours and eyecolor is 0.5653266331658291. The accuracy for z-score exercise hours and eyecolor is 0.5653266331658291."
      ]
    },
    {
      "cell_type": "markdown",
      "metadata": {
        "id": "JYVuaPWgrePL",
        "colab_type": "text"
      },
      "source": [
        "***\n",
        "### Question 6###\n",
        "Combine the features from question 3, 4, and 5 (year, eyecolor, exercise, height, exercise hours). For numeric features use the best normalization method from questions 4 and 5."
      ]
    },
    {
      "cell_type": "markdown",
      "metadata": {
        "id": "1iAiFhlFrePM",
        "colab_type": "text"
      },
      "source": [
        "**Question 6.a**  \n",
        "What was the NN accuracy on the test set using the single 10 node hidden layer?"
      ]
    },
    {
      "cell_type": "code",
      "metadata": {
        "colab_type": "code",
        "id": "QuLJ6sTB1FfN",
        "colab": {
          "base_uri": "https://localhost:8080/",
          "height": 51
        },
        "outputId": "da92aa16-933a-4580-f7e4-e22ad57fcb50"
      },
      "source": [
        "df_train9 = df_train[['gender', 'year', 'eyecolor', 'exercise', 'height', 'exercisehours']]\n",
        "df_train9 = pd.get_dummies(df_train9, columns=['year', 'eyecolor', 'exercise'])\n",
        "df_train9['height'] = z_score(df_train['height'])\n",
        "df_train9['exercisehours'] = z_score(df_train['exercisehours'])\n",
        "X_train9 = df_train9.iloc[:, 1:]\n",
        "Y_train9 = df_train9['gender']\n",
        "\n",
        "df_test9 = df_test[['gender', 'year', 'eyecolor', 'exercise', 'height', 'exercisehours']]\n",
        "df_test9 = pd.get_dummies(df_test9, columns=['year', 'eyecolor', 'exercise'])\n",
        "df_test9['height'] = z_score(df_test['height'])\n",
        "df_test9['exercisehours'] = z_score(df_test['exercisehours'])\n",
        "X_test9 = df_test9.iloc[:, 1:]\n",
        "Y_test9 =  df_test9['gender']\n",
        "\n",
        "model = MLPClassifier(solver='lbfgs', hidden_layer_sizes=10, random_state=42, activation=\"logistic\", max_iter=50)\n",
        "model.fit(X_train9, Y_train9)\n",
        "model.predict(X_train9)\n",
        "print(model.score(X_train9, Y_train9))\n",
        "print(\"Accuracy of test using all features: \", model.score(X_test9, Y_test9))\n",
        "\n",
        "\n"
      ],
      "execution_count": 79,
      "outputs": [
        {
          "output_type": "stream",
          "text": [
            "0.8547169811320755\n",
            "Accuracy of test using all features:  0.864321608040201\n"
          ],
          "name": "stdout"
        }
      ]
    },
    {
      "cell_type": "markdown",
      "metadata": {
        "colab_type": "text",
        "id": "1foS74O01FfP"
      },
      "source": [
        "###ANSWER: The accuracy using the zscore of height/exercise hours, eyecolor, year, and exercise of the testing set is 0.864321608040201."
      ]
    },
    {
      "cell_type": "markdown",
      "metadata": {
        "id": "Jusc-kofrePP",
        "colab_type": "text"
      },
      "source": [
        "***\n",
        "### Question 7- Bonus (10%)###\n",
        "Can you improve your test set prediction accuracy by 5% or more?  \n",
        "\n",
        "See how close to that milestone of improvement you can get by modifying the tuning parameters of  Neural Networks (the number of hidden layers, number of hidden nodes in each layer, the learning rate aka mu). A great guide to tuning parameters is explained in this guide: http://www.csie.ntu.edu.tw/~cjlin/papers/guide/guide.pdf. \n",
        "\n",
        "While the guide is specific to SVM and in particular the C and gamma parameters of the RBF kernel, the method applies to generally to any ML technique with tuning parameters.\n",
        "\n",
        "Please also write a paragraph in a markdown cell below with an explanation of your approach and evaluation metrics.\n"
      ]
    },
    {
      "cell_type": "code",
      "metadata": {
        "colab_type": "code",
        "id": "qvpoUdeq1GsX",
        "colab": {
          "base_uri": "https://localhost:8080/",
          "height": 51
        },
        "outputId": "af398ac4-c30b-4893-89c8-ebbed54ab90b"
      },
      "source": [
        "df_train9 = df_train[['gender', 'year', 'eyecolor', 'exercise', 'height', 'exercisehours']]\n",
        "df_train9 = pd.get_dummies(df_train9, columns=['year', 'eyecolor', 'exercise'])\n",
        "df_train9['height'] = z_score(df_train['height'])\n",
        "df_train9['exercisehours'] = z_score(df_train['exercisehours'])\n",
        "X_train9 = df_train9.iloc[:, 1:]\n",
        "Y_train9 = df_train9['gender']\n",
        "\n",
        "df_test9 = df_test[['gender', 'year', 'eyecolor', 'exercise', 'height', 'exercisehours']]\n",
        "df_test9 = pd.get_dummies(df_test9, columns=['year', 'eyecolor', 'exercise'])\n",
        "df_test9['height'] = z_score(df_test['height'])\n",
        "df_test9['exercisehours'] = z_score(df_test['exercisehours'])\n",
        "X_test9 = df_test9.iloc[:, 1:]\n",
        "Y_test9 =  df_test9['gender']\n",
        "\n",
        "model = MLPClassifier(solver='lbfgs', hidden_layer_sizes=9, random_state=42, activation=\"logistic\", alpha=1e-5)\n",
        "model.fit(X_train9, Y_train9)\n",
        "model.predict(X_train9)\n",
        "print(model.score(X_train9, Y_train9))\n",
        "print(\"Accuracy of test using all features: \", model.score(X_test9, Y_test9))\n"
      ],
      "execution_count": 80,
      "outputs": [
        {
          "output_type": "stream",
          "text": [
            "0.879874213836478\n",
            "Accuracy of test using all features:  0.9045226130653267\n"
          ],
          "name": "stdout"
        }
      ]
    },
    {
      "cell_type": "markdown",
      "metadata": {
        "colab_type": "text",
        "id": "2rFY8D4Q1GsZ"
      },
      "source": [
        "###ANSWER: I was able to achieve 90.5% accuracy by setting the learning rate to 1e-5, removing the max iterations count, and setting the hidden layer sizes to 9. Although it's not a exactly 5% improvement, I played around with a lot of numbers and parameters and this was the highest accuracy I was able to achieve."
      ]
    },
    {
      "cell_type": "code",
      "metadata": {
        "id": "AuNWE46Y5hA_",
        "colab_type": "code",
        "colab": {}
      },
      "source": [
        ""
      ],
      "execution_count": null,
      "outputs": []
    }
  ]
}